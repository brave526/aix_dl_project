{
  "cells": [
    {
      "cell_type": "markdown",
      "source": [
        "# **수도권 아파트 매매 가격과 각종 경제 지표들 간의 관계를 분석하고 예측하는 모델 개발**\n"
      ],
      "metadata": {
        "id": "nedlfbuMda3p"
      }
    },
    {
      "cell_type": "code",
      "execution_count": 254,
      "metadata": {
        "colab": {
          "base_uri": "https://localhost:8080/"
        },
        "id": "sIiWlq9aUOYx",
        "outputId": "3ebf0009-5c5f-4d2b-b0ef-304f7d0728c1"
      },
      "outputs": [
        {
          "output_type": "stream",
          "name": "stdout",
          "text": [
            "Drive already mounted at /content/drive; to attempt to forcibly remount, call drive.mount(\"/content/drive\", force_remount=True).\n"
          ]
        }
      ],
      "source": [
        "from google.colab import drive\n",
        "drive.mount('/content/drive')"
      ]
    },
    {
      "cell_type": "markdown",
      "source": [
        "# 1. 데이터 전처리"
      ],
      "metadata": {
        "id": "Xq4eAzFq0cH3"
      }
    },
    {
      "cell_type": "markdown",
      "source": [
        "## 1.1 데이터 불러오기"
      ],
      "metadata": {
        "id": "JTuPsLgPLl8S"
      }
    },
    {
      "cell_type": "code",
      "execution_count": 255,
      "metadata": {
        "id": "H9uy58hUUcF9"
      },
      "outputs": [],
      "source": [
        "import pandas as pd\n",
        "import numpy as np"
      ]
    },
    {
      "cell_type": "code",
      "execution_count": 256,
      "metadata": {
        "id": "sU_Rnl1iUml_"
      },
      "outputs": [],
      "source": [
        "pd.read_excel('/content/drive/MyDrive/aix/final_project/apt_average_2.xlsx')\n",
        "apt_avg = pd.read_excel('/content/drive/MyDrive/aix/final_project/apt_average_2.xlsx')"
      ]
    },
    {
      "cell_type": "code",
      "execution_count": 257,
      "metadata": {
        "id": "cR7qkRhnUuf2"
      },
      "outputs": [],
      "source": [
        "# !sudo apt-get install -y fonts-nanum\n",
        "# !sudo fc-cache -fv\n",
        "# !rm ~/.cache/matplotlib -rf"
      ]
    },
    {
      "cell_type": "markdown",
      "source": [
        "### 1.1.1 수도권 아파트 월별 평균 가격 데이터 (2012년 1월 ~ 2022년 3월)"
      ],
      "metadata": {
        "id": "4uwQeTVN3fO7"
      }
    },
    {
      "cell_type": "code",
      "execution_count": 258,
      "metadata": {
        "colab": {
          "base_uri": "https://localhost:8080/",
          "height": 424
        },
        "id": "OUZCHqiLVEOs",
        "outputId": "e3af20fc-af3d-4147-d151-9457d37bbc54"
      },
      "outputs": [
        {
          "output_type": "execute_result",
          "data": {
            "text/plain": [
              "            시기      아파트가격\n",
              "0    2012년 01월  365249000\n",
              "1    2012년 02월  364275000\n",
              "2    2012년 03월  362790000\n",
              "3    2012년 04월  360918000\n",
              "4    2012년 05월  359253000\n",
              "..         ...        ...\n",
              "118  2021년 11월  756331000\n",
              "119  2021년 12월  758448000\n",
              "120  2022년 01월  758407000\n",
              "121  2022년 02월  757620000\n",
              "122  2022년 03월  756560000\n",
              "\n",
              "[123 rows x 2 columns]"
            ],
            "text/html": [
              "\n",
              "  <div id=\"df-b46ecc58-3915-4d9d-a008-d97ca8f28a60\">\n",
              "    <div class=\"colab-df-container\">\n",
              "      <div>\n",
              "<style scoped>\n",
              "    .dataframe tbody tr th:only-of-type {\n",
              "        vertical-align: middle;\n",
              "    }\n",
              "\n",
              "    .dataframe tbody tr th {\n",
              "        vertical-align: top;\n",
              "    }\n",
              "\n",
              "    .dataframe thead th {\n",
              "        text-align: right;\n",
              "    }\n",
              "</style>\n",
              "<table border=\"1\" class=\"dataframe\">\n",
              "  <thead>\n",
              "    <tr style=\"text-align: right;\">\n",
              "      <th></th>\n",
              "      <th>시기</th>\n",
              "      <th>아파트가격</th>\n",
              "    </tr>\n",
              "  </thead>\n",
              "  <tbody>\n",
              "    <tr>\n",
              "      <th>0</th>\n",
              "      <td>2012년 01월</td>\n",
              "      <td>365249000</td>\n",
              "    </tr>\n",
              "    <tr>\n",
              "      <th>1</th>\n",
              "      <td>2012년 02월</td>\n",
              "      <td>364275000</td>\n",
              "    </tr>\n",
              "    <tr>\n",
              "      <th>2</th>\n",
              "      <td>2012년 03월</td>\n",
              "      <td>362790000</td>\n",
              "    </tr>\n",
              "    <tr>\n",
              "      <th>3</th>\n",
              "      <td>2012년 04월</td>\n",
              "      <td>360918000</td>\n",
              "    </tr>\n",
              "    <tr>\n",
              "      <th>4</th>\n",
              "      <td>2012년 05월</td>\n",
              "      <td>359253000</td>\n",
              "    </tr>\n",
              "    <tr>\n",
              "      <th>...</th>\n",
              "      <td>...</td>\n",
              "      <td>...</td>\n",
              "    </tr>\n",
              "    <tr>\n",
              "      <th>118</th>\n",
              "      <td>2021년 11월</td>\n",
              "      <td>756331000</td>\n",
              "    </tr>\n",
              "    <tr>\n",
              "      <th>119</th>\n",
              "      <td>2021년 12월</td>\n",
              "      <td>758448000</td>\n",
              "    </tr>\n",
              "    <tr>\n",
              "      <th>120</th>\n",
              "      <td>2022년 01월</td>\n",
              "      <td>758407000</td>\n",
              "    </tr>\n",
              "    <tr>\n",
              "      <th>121</th>\n",
              "      <td>2022년 02월</td>\n",
              "      <td>757620000</td>\n",
              "    </tr>\n",
              "    <tr>\n",
              "      <th>122</th>\n",
              "      <td>2022년 03월</td>\n",
              "      <td>756560000</td>\n",
              "    </tr>\n",
              "  </tbody>\n",
              "</table>\n",
              "<p>123 rows × 2 columns</p>\n",
              "</div>\n",
              "      <button class=\"colab-df-convert\" onclick=\"convertToInteractive('df-b46ecc58-3915-4d9d-a008-d97ca8f28a60')\"\n",
              "              title=\"Convert this dataframe to an interactive table.\"\n",
              "              style=\"display:none;\">\n",
              "        \n",
              "  <svg xmlns=\"http://www.w3.org/2000/svg\" height=\"24px\"viewBox=\"0 0 24 24\"\n",
              "       width=\"24px\">\n",
              "    <path d=\"M0 0h24v24H0V0z\" fill=\"none\"/>\n",
              "    <path d=\"M18.56 5.44l.94 2.06.94-2.06 2.06-.94-2.06-.94-.94-2.06-.94 2.06-2.06.94zm-11 1L8.5 8.5l.94-2.06 2.06-.94-2.06-.94L8.5 2.5l-.94 2.06-2.06.94zm10 10l.94 2.06.94-2.06 2.06-.94-2.06-.94-.94-2.06-.94 2.06-2.06.94z\"/><path d=\"M17.41 7.96l-1.37-1.37c-.4-.4-.92-.59-1.43-.59-.52 0-1.04.2-1.43.59L10.3 9.45l-7.72 7.72c-.78.78-.78 2.05 0 2.83L4 21.41c.39.39.9.59 1.41.59.51 0 1.02-.2 1.41-.59l7.78-7.78 2.81-2.81c.8-.78.8-2.07 0-2.86zM5.41 20L4 18.59l7.72-7.72 1.47 1.35L5.41 20z\"/>\n",
              "  </svg>\n",
              "      </button>\n",
              "      \n",
              "  <style>\n",
              "    .colab-df-container {\n",
              "      display:flex;\n",
              "      flex-wrap:wrap;\n",
              "      gap: 12px;\n",
              "    }\n",
              "\n",
              "    .colab-df-convert {\n",
              "      background-color: #E8F0FE;\n",
              "      border: none;\n",
              "      border-radius: 50%;\n",
              "      cursor: pointer;\n",
              "      display: none;\n",
              "      fill: #1967D2;\n",
              "      height: 32px;\n",
              "      padding: 0 0 0 0;\n",
              "      width: 32px;\n",
              "    }\n",
              "\n",
              "    .colab-df-convert:hover {\n",
              "      background-color: #E2EBFA;\n",
              "      box-shadow: 0px 1px 2px rgba(60, 64, 67, 0.3), 0px 1px 3px 1px rgba(60, 64, 67, 0.15);\n",
              "      fill: #174EA6;\n",
              "    }\n",
              "\n",
              "    [theme=dark] .colab-df-convert {\n",
              "      background-color: #3B4455;\n",
              "      fill: #D2E3FC;\n",
              "    }\n",
              "\n",
              "    [theme=dark] .colab-df-convert:hover {\n",
              "      background-color: #434B5C;\n",
              "      box-shadow: 0px 1px 3px 1px rgba(0, 0, 0, 0.15);\n",
              "      filter: drop-shadow(0px 1px 2px rgba(0, 0, 0, 0.3));\n",
              "      fill: #FFFFFF;\n",
              "    }\n",
              "  </style>\n",
              "\n",
              "      <script>\n",
              "        const buttonEl =\n",
              "          document.querySelector('#df-b46ecc58-3915-4d9d-a008-d97ca8f28a60 button.colab-df-convert');\n",
              "        buttonEl.style.display =\n",
              "          google.colab.kernel.accessAllowed ? 'block' : 'none';\n",
              "\n",
              "        async function convertToInteractive(key) {\n",
              "          const element = document.querySelector('#df-b46ecc58-3915-4d9d-a008-d97ca8f28a60');\n",
              "          const dataTable =\n",
              "            await google.colab.kernel.invokeFunction('convertToInteractive',\n",
              "                                                     [key], {});\n",
              "          if (!dataTable) return;\n",
              "\n",
              "          const docLinkHtml = 'Like what you see? Visit the ' +\n",
              "            '<a target=\"_blank\" href=https://colab.research.google.com/notebooks/data_table.ipynb>data table notebook</a>'\n",
              "            + ' to learn more about interactive tables.';\n",
              "          element.innerHTML = '';\n",
              "          dataTable['output_type'] = 'display_data';\n",
              "          await google.colab.output.renderOutput(dataTable, element);\n",
              "          const docLink = document.createElement('div');\n",
              "          docLink.innerHTML = docLinkHtml;\n",
              "          element.appendChild(docLink);\n",
              "        }\n",
              "      </script>\n",
              "    </div>\n",
              "  </div>\n",
              "  "
            ]
          },
          "metadata": {},
          "execution_count": 258
        }
      ],
      "source": [
        "apt_avg"
      ]
    },
    {
      "cell_type": "code",
      "execution_count": 259,
      "metadata": {
        "colab": {
          "base_uri": "https://localhost:8080/"
        },
        "id": "XED08gsxXmS6",
        "outputId": "a2b35e6f-7419-4f86-87ef-0c1e333dac0e"
      },
      "outputs": [
        {
          "output_type": "stream",
          "name": "stdout",
          "text": [
            "<class 'pandas.core.frame.DataFrame'>\n",
            "RangeIndex: 123 entries, 0 to 122\n",
            "Data columns (total 2 columns):\n",
            " #   Column  Non-Null Count  Dtype \n",
            "---  ------  --------------  ----- \n",
            " 0   시기      123 non-null    object\n",
            " 1   아파트가격   123 non-null    int64 \n",
            "dtypes: int64(1), object(1)\n",
            "memory usage: 2.0+ KB\n"
          ]
        }
      ],
      "source": [
        "apt_avg.info()"
      ]
    },
    {
      "cell_type": "markdown",
      "source": [
        "### 1.1.2 코스피지수, 코스닥지수 데이터(2012년 1월 ~ 2022년 3월)"
      ],
      "metadata": {
        "id": "g5HKifFO7dJs"
      }
    },
    {
      "cell_type": "code",
      "execution_count": 260,
      "metadata": {
        "colab": {
          "base_uri": "https://localhost:8080/",
          "height": 424
        },
        "id": "KQCYgGBKXrSJ",
        "outputId": "3ce2d28d-eb66-4272-e13b-79477a012c0a"
      },
      "outputs": [
        {
          "output_type": "execute_result",
          "data": {
            "text/plain": [
              "          시기    코스피지수    코스닥지수\n",
              "0    201201월  1955.79   513.99\n",
              "1    201202월  2030.25   542.30\n",
              "2    201203월  2014.04   519.56\n",
              "3    201204월  1981.99   478.89\n",
              "4    201205월  1843.47   471.94\n",
              "..       ...      ...      ...\n",
              "118  202111월  2839.01   965.63\n",
              "119  202112월  2977.65  1033.98\n",
              "120  202201월  2663.34   872.87\n",
              "121  202202월  2699.18   881.07\n",
              "122  202203월  2757.65   944.53\n",
              "\n",
              "[123 rows x 3 columns]"
            ],
            "text/html": [
              "\n",
              "  <div id=\"df-ebb6c5d7-9e81-42a2-9eba-2b43562243f1\">\n",
              "    <div class=\"colab-df-container\">\n",
              "      <div>\n",
              "<style scoped>\n",
              "    .dataframe tbody tr th:only-of-type {\n",
              "        vertical-align: middle;\n",
              "    }\n",
              "\n",
              "    .dataframe tbody tr th {\n",
              "        vertical-align: top;\n",
              "    }\n",
              "\n",
              "    .dataframe thead th {\n",
              "        text-align: right;\n",
              "    }\n",
              "</style>\n",
              "<table border=\"1\" class=\"dataframe\">\n",
              "  <thead>\n",
              "    <tr style=\"text-align: right;\">\n",
              "      <th></th>\n",
              "      <th>시기</th>\n",
              "      <th>코스피지수</th>\n",
              "      <th>코스닥지수</th>\n",
              "    </tr>\n",
              "  </thead>\n",
              "  <tbody>\n",
              "    <tr>\n",
              "      <th>0</th>\n",
              "      <td>201201월</td>\n",
              "      <td>1955.79</td>\n",
              "      <td>513.99</td>\n",
              "    </tr>\n",
              "    <tr>\n",
              "      <th>1</th>\n",
              "      <td>201202월</td>\n",
              "      <td>2030.25</td>\n",
              "      <td>542.30</td>\n",
              "    </tr>\n",
              "    <tr>\n",
              "      <th>2</th>\n",
              "      <td>201203월</td>\n",
              "      <td>2014.04</td>\n",
              "      <td>519.56</td>\n",
              "    </tr>\n",
              "    <tr>\n",
              "      <th>3</th>\n",
              "      <td>201204월</td>\n",
              "      <td>1981.99</td>\n",
              "      <td>478.89</td>\n",
              "    </tr>\n",
              "    <tr>\n",
              "      <th>4</th>\n",
              "      <td>201205월</td>\n",
              "      <td>1843.47</td>\n",
              "      <td>471.94</td>\n",
              "    </tr>\n",
              "    <tr>\n",
              "      <th>...</th>\n",
              "      <td>...</td>\n",
              "      <td>...</td>\n",
              "      <td>...</td>\n",
              "    </tr>\n",
              "    <tr>\n",
              "      <th>118</th>\n",
              "      <td>202111월</td>\n",
              "      <td>2839.01</td>\n",
              "      <td>965.63</td>\n",
              "    </tr>\n",
              "    <tr>\n",
              "      <th>119</th>\n",
              "      <td>202112월</td>\n",
              "      <td>2977.65</td>\n",
              "      <td>1033.98</td>\n",
              "    </tr>\n",
              "    <tr>\n",
              "      <th>120</th>\n",
              "      <td>202201월</td>\n",
              "      <td>2663.34</td>\n",
              "      <td>872.87</td>\n",
              "    </tr>\n",
              "    <tr>\n",
              "      <th>121</th>\n",
              "      <td>202202월</td>\n",
              "      <td>2699.18</td>\n",
              "      <td>881.07</td>\n",
              "    </tr>\n",
              "    <tr>\n",
              "      <th>122</th>\n",
              "      <td>202203월</td>\n",
              "      <td>2757.65</td>\n",
              "      <td>944.53</td>\n",
              "    </tr>\n",
              "  </tbody>\n",
              "</table>\n",
              "<p>123 rows × 3 columns</p>\n",
              "</div>\n",
              "      <button class=\"colab-df-convert\" onclick=\"convertToInteractive('df-ebb6c5d7-9e81-42a2-9eba-2b43562243f1')\"\n",
              "              title=\"Convert this dataframe to an interactive table.\"\n",
              "              style=\"display:none;\">\n",
              "        \n",
              "  <svg xmlns=\"http://www.w3.org/2000/svg\" height=\"24px\"viewBox=\"0 0 24 24\"\n",
              "       width=\"24px\">\n",
              "    <path d=\"M0 0h24v24H0V0z\" fill=\"none\"/>\n",
              "    <path d=\"M18.56 5.44l.94 2.06.94-2.06 2.06-.94-2.06-.94-.94-2.06-.94 2.06-2.06.94zm-11 1L8.5 8.5l.94-2.06 2.06-.94-2.06-.94L8.5 2.5l-.94 2.06-2.06.94zm10 10l.94 2.06.94-2.06 2.06-.94-2.06-.94-.94-2.06-.94 2.06-2.06.94z\"/><path d=\"M17.41 7.96l-1.37-1.37c-.4-.4-.92-.59-1.43-.59-.52 0-1.04.2-1.43.59L10.3 9.45l-7.72 7.72c-.78.78-.78 2.05 0 2.83L4 21.41c.39.39.9.59 1.41.59.51 0 1.02-.2 1.41-.59l7.78-7.78 2.81-2.81c.8-.78.8-2.07 0-2.86zM5.41 20L4 18.59l7.72-7.72 1.47 1.35L5.41 20z\"/>\n",
              "  </svg>\n",
              "      </button>\n",
              "      \n",
              "  <style>\n",
              "    .colab-df-container {\n",
              "      display:flex;\n",
              "      flex-wrap:wrap;\n",
              "      gap: 12px;\n",
              "    }\n",
              "\n",
              "    .colab-df-convert {\n",
              "      background-color: #E8F0FE;\n",
              "      border: none;\n",
              "      border-radius: 50%;\n",
              "      cursor: pointer;\n",
              "      display: none;\n",
              "      fill: #1967D2;\n",
              "      height: 32px;\n",
              "      padding: 0 0 0 0;\n",
              "      width: 32px;\n",
              "    }\n",
              "\n",
              "    .colab-df-convert:hover {\n",
              "      background-color: #E2EBFA;\n",
              "      box-shadow: 0px 1px 2px rgba(60, 64, 67, 0.3), 0px 1px 3px 1px rgba(60, 64, 67, 0.15);\n",
              "      fill: #174EA6;\n",
              "    }\n",
              "\n",
              "    [theme=dark] .colab-df-convert {\n",
              "      background-color: #3B4455;\n",
              "      fill: #D2E3FC;\n",
              "    }\n",
              "\n",
              "    [theme=dark] .colab-df-convert:hover {\n",
              "      background-color: #434B5C;\n",
              "      box-shadow: 0px 1px 3px 1px rgba(0, 0, 0, 0.15);\n",
              "      filter: drop-shadow(0px 1px 2px rgba(0, 0, 0, 0.3));\n",
              "      fill: #FFFFFF;\n",
              "    }\n",
              "  </style>\n",
              "\n",
              "      <script>\n",
              "        const buttonEl =\n",
              "          document.querySelector('#df-ebb6c5d7-9e81-42a2-9eba-2b43562243f1 button.colab-df-convert');\n",
              "        buttonEl.style.display =\n",
              "          google.colab.kernel.accessAllowed ? 'block' : 'none';\n",
              "\n",
              "        async function convertToInteractive(key) {\n",
              "          const element = document.querySelector('#df-ebb6c5d7-9e81-42a2-9eba-2b43562243f1');\n",
              "          const dataTable =\n",
              "            await google.colab.kernel.invokeFunction('convertToInteractive',\n",
              "                                                     [key], {});\n",
              "          if (!dataTable) return;\n",
              "\n",
              "          const docLinkHtml = 'Like what you see? Visit the ' +\n",
              "            '<a target=\"_blank\" href=https://colab.research.google.com/notebooks/data_table.ipynb>data table notebook</a>'\n",
              "            + ' to learn more about interactive tables.';\n",
              "          element.innerHTML = '';\n",
              "          dataTable['output_type'] = 'display_data';\n",
              "          await google.colab.output.renderOutput(dataTable, element);\n",
              "          const docLink = document.createElement('div');\n",
              "          docLink.innerHTML = docLinkHtml;\n",
              "          element.appendChild(docLink);\n",
              "        }\n",
              "      </script>\n",
              "    </div>\n",
              "  </div>\n",
              "  "
            ]
          },
          "metadata": {},
          "execution_count": 260
        }
      ],
      "source": [
        "pd.read_excel('/content/drive/MyDrive/aix/final_project/kospi_kosdaq.xlsx')\n",
        "kospi_kosdaq = pd.read_excel('/content/drive/MyDrive/aix/final_project/kospi_kosdaq.xlsx')\n",
        "kospi_kosdaq"
      ]
    },
    {
      "cell_type": "code",
      "source": [
        "kospi_kosdaq=kospi_kosdaq.iloc[:,1:]"
      ],
      "metadata": {
        "id": "yoYSPiiMB0ur"
      },
      "execution_count": 261,
      "outputs": []
    },
    {
      "cell_type": "code",
      "execution_count": 262,
      "metadata": {
        "colab": {
          "base_uri": "https://localhost:8080/"
        },
        "id": "oMBkipNMYDQJ",
        "outputId": "292b3bae-9f6c-4aa0-a705-5138460c1b6f"
      },
      "outputs": [
        {
          "output_type": "stream",
          "name": "stdout",
          "text": [
            "<class 'pandas.core.frame.DataFrame'>\n",
            "RangeIndex: 123 entries, 0 to 122\n",
            "Data columns (total 2 columns):\n",
            " #   Column  Non-Null Count  Dtype  \n",
            "---  ------  --------------  -----  \n",
            " 0   코스피지수   123 non-null    float64\n",
            " 1   코스닥지수   123 non-null    float64\n",
            "dtypes: float64(2)\n",
            "memory usage: 2.0 KB\n"
          ]
        }
      ],
      "source": [
        "kospi_kosdaq.info()"
      ]
    },
    {
      "cell_type": "markdown",
      "source": [
        "### 1.1.3 나스닥지수 데이터 (2012년 1월 ~ 2022년 3월)"
      ],
      "metadata": {
        "id": "6lV8_msa7YQU"
      }
    },
    {
      "cell_type": "code",
      "execution_count": 263,
      "metadata": {
        "colab": {
          "base_uri": "https://localhost:8080/",
          "height": 424
        },
        "id": "AJfHhPwMZZYa",
        "outputId": "0d1c3bb6-3fcd-4b33-b258-b4ebe59e907e"
      },
      "outputs": [
        {
          "output_type": "execute_result",
          "data": {
            "text/plain": [
              "            날짜        종가        오픈        고가        저가     거래량    변동 %\n",
              "0     2012년 1월   2813.84   2657.39   2834.30   2627.23   8.79B  0.0801\n",
              "1     2012년 2월   2966.89   2830.10   3000.11   2825.19   9.35B  0.0544\n",
              "2     2012년 3월   3091.57   2979.11   3134.17   2900.28   9.68B  0.0420\n",
              "3     2012년 4월   3046.36   3085.94   3128.25   2946.04   8.93B -0.0146\n",
              "4     2012년 5월   2827.34   3044.79   3085.40   2774.45  10.55B -0.0719\n",
              "..         ...       ...       ...       ...       ...     ...     ...\n",
              "118  2021년 11월  15537.69  15541.26  16212.23  15451.38  21.65B  0.0025\n",
              "119  2021년 12월  15644.97  15752.27  15901.47  14860.04  22.79B  0.0069\n",
              "120   2022년 1월  14239.88  15732.50  15852.14  13094.65  20.65B -0.0898\n",
              "121   2022년 2월  13751.40  14277.43  14509.43  12587.88   1.39B -0.0343\n",
              "122   2022년 3월  14220.52  13717.31  14646.77  12555.37   1.10B  0.0341\n",
              "\n",
              "[123 rows x 7 columns]"
            ],
            "text/html": [
              "\n",
              "  <div id=\"df-e5e1f530-70cb-4384-9657-b1763d03a35d\">\n",
              "    <div class=\"colab-df-container\">\n",
              "      <div>\n",
              "<style scoped>\n",
              "    .dataframe tbody tr th:only-of-type {\n",
              "        vertical-align: middle;\n",
              "    }\n",
              "\n",
              "    .dataframe tbody tr th {\n",
              "        vertical-align: top;\n",
              "    }\n",
              "\n",
              "    .dataframe thead th {\n",
              "        text-align: right;\n",
              "    }\n",
              "</style>\n",
              "<table border=\"1\" class=\"dataframe\">\n",
              "  <thead>\n",
              "    <tr style=\"text-align: right;\">\n",
              "      <th></th>\n",
              "      <th>날짜</th>\n",
              "      <th>종가</th>\n",
              "      <th>오픈</th>\n",
              "      <th>고가</th>\n",
              "      <th>저가</th>\n",
              "      <th>거래량</th>\n",
              "      <th>변동 %</th>\n",
              "    </tr>\n",
              "  </thead>\n",
              "  <tbody>\n",
              "    <tr>\n",
              "      <th>0</th>\n",
              "      <td>2012년 1월</td>\n",
              "      <td>2813.84</td>\n",
              "      <td>2657.39</td>\n",
              "      <td>2834.30</td>\n",
              "      <td>2627.23</td>\n",
              "      <td>8.79B</td>\n",
              "      <td>0.0801</td>\n",
              "    </tr>\n",
              "    <tr>\n",
              "      <th>1</th>\n",
              "      <td>2012년 2월</td>\n",
              "      <td>2966.89</td>\n",
              "      <td>2830.10</td>\n",
              "      <td>3000.11</td>\n",
              "      <td>2825.19</td>\n",
              "      <td>9.35B</td>\n",
              "      <td>0.0544</td>\n",
              "    </tr>\n",
              "    <tr>\n",
              "      <th>2</th>\n",
              "      <td>2012년 3월</td>\n",
              "      <td>3091.57</td>\n",
              "      <td>2979.11</td>\n",
              "      <td>3134.17</td>\n",
              "      <td>2900.28</td>\n",
              "      <td>9.68B</td>\n",
              "      <td>0.0420</td>\n",
              "    </tr>\n",
              "    <tr>\n",
              "      <th>3</th>\n",
              "      <td>2012년 4월</td>\n",
              "      <td>3046.36</td>\n",
              "      <td>3085.94</td>\n",
              "      <td>3128.25</td>\n",
              "      <td>2946.04</td>\n",
              "      <td>8.93B</td>\n",
              "      <td>-0.0146</td>\n",
              "    </tr>\n",
              "    <tr>\n",
              "      <th>4</th>\n",
              "      <td>2012년 5월</td>\n",
              "      <td>2827.34</td>\n",
              "      <td>3044.79</td>\n",
              "      <td>3085.40</td>\n",
              "      <td>2774.45</td>\n",
              "      <td>10.55B</td>\n",
              "      <td>-0.0719</td>\n",
              "    </tr>\n",
              "    <tr>\n",
              "      <th>...</th>\n",
              "      <td>...</td>\n",
              "      <td>...</td>\n",
              "      <td>...</td>\n",
              "      <td>...</td>\n",
              "      <td>...</td>\n",
              "      <td>...</td>\n",
              "      <td>...</td>\n",
              "    </tr>\n",
              "    <tr>\n",
              "      <th>118</th>\n",
              "      <td>2021년 11월</td>\n",
              "      <td>15537.69</td>\n",
              "      <td>15541.26</td>\n",
              "      <td>16212.23</td>\n",
              "      <td>15451.38</td>\n",
              "      <td>21.65B</td>\n",
              "      <td>0.0025</td>\n",
              "    </tr>\n",
              "    <tr>\n",
              "      <th>119</th>\n",
              "      <td>2021년 12월</td>\n",
              "      <td>15644.97</td>\n",
              "      <td>15752.27</td>\n",
              "      <td>15901.47</td>\n",
              "      <td>14860.04</td>\n",
              "      <td>22.79B</td>\n",
              "      <td>0.0069</td>\n",
              "    </tr>\n",
              "    <tr>\n",
              "      <th>120</th>\n",
              "      <td>2022년 1월</td>\n",
              "      <td>14239.88</td>\n",
              "      <td>15732.50</td>\n",
              "      <td>15852.14</td>\n",
              "      <td>13094.65</td>\n",
              "      <td>20.65B</td>\n",
              "      <td>-0.0898</td>\n",
              "    </tr>\n",
              "    <tr>\n",
              "      <th>121</th>\n",
              "      <td>2022년 2월</td>\n",
              "      <td>13751.40</td>\n",
              "      <td>14277.43</td>\n",
              "      <td>14509.43</td>\n",
              "      <td>12587.88</td>\n",
              "      <td>1.39B</td>\n",
              "      <td>-0.0343</td>\n",
              "    </tr>\n",
              "    <tr>\n",
              "      <th>122</th>\n",
              "      <td>2022년 3월</td>\n",
              "      <td>14220.52</td>\n",
              "      <td>13717.31</td>\n",
              "      <td>14646.77</td>\n",
              "      <td>12555.37</td>\n",
              "      <td>1.10B</td>\n",
              "      <td>0.0341</td>\n",
              "    </tr>\n",
              "  </tbody>\n",
              "</table>\n",
              "<p>123 rows × 7 columns</p>\n",
              "</div>\n",
              "      <button class=\"colab-df-convert\" onclick=\"convertToInteractive('df-e5e1f530-70cb-4384-9657-b1763d03a35d')\"\n",
              "              title=\"Convert this dataframe to an interactive table.\"\n",
              "              style=\"display:none;\">\n",
              "        \n",
              "  <svg xmlns=\"http://www.w3.org/2000/svg\" height=\"24px\"viewBox=\"0 0 24 24\"\n",
              "       width=\"24px\">\n",
              "    <path d=\"M0 0h24v24H0V0z\" fill=\"none\"/>\n",
              "    <path d=\"M18.56 5.44l.94 2.06.94-2.06 2.06-.94-2.06-.94-.94-2.06-.94 2.06-2.06.94zm-11 1L8.5 8.5l.94-2.06 2.06-.94-2.06-.94L8.5 2.5l-.94 2.06-2.06.94zm10 10l.94 2.06.94-2.06 2.06-.94-2.06-.94-.94-2.06-.94 2.06-2.06.94z\"/><path d=\"M17.41 7.96l-1.37-1.37c-.4-.4-.92-.59-1.43-.59-.52 0-1.04.2-1.43.59L10.3 9.45l-7.72 7.72c-.78.78-.78 2.05 0 2.83L4 21.41c.39.39.9.59 1.41.59.51 0 1.02-.2 1.41-.59l7.78-7.78 2.81-2.81c.8-.78.8-2.07 0-2.86zM5.41 20L4 18.59l7.72-7.72 1.47 1.35L5.41 20z\"/>\n",
              "  </svg>\n",
              "      </button>\n",
              "      \n",
              "  <style>\n",
              "    .colab-df-container {\n",
              "      display:flex;\n",
              "      flex-wrap:wrap;\n",
              "      gap: 12px;\n",
              "    }\n",
              "\n",
              "    .colab-df-convert {\n",
              "      background-color: #E8F0FE;\n",
              "      border: none;\n",
              "      border-radius: 50%;\n",
              "      cursor: pointer;\n",
              "      display: none;\n",
              "      fill: #1967D2;\n",
              "      height: 32px;\n",
              "      padding: 0 0 0 0;\n",
              "      width: 32px;\n",
              "    }\n",
              "\n",
              "    .colab-df-convert:hover {\n",
              "      background-color: #E2EBFA;\n",
              "      box-shadow: 0px 1px 2px rgba(60, 64, 67, 0.3), 0px 1px 3px 1px rgba(60, 64, 67, 0.15);\n",
              "      fill: #174EA6;\n",
              "    }\n",
              "\n",
              "    [theme=dark] .colab-df-convert {\n",
              "      background-color: #3B4455;\n",
              "      fill: #D2E3FC;\n",
              "    }\n",
              "\n",
              "    [theme=dark] .colab-df-convert:hover {\n",
              "      background-color: #434B5C;\n",
              "      box-shadow: 0px 1px 3px 1px rgba(0, 0, 0, 0.15);\n",
              "      filter: drop-shadow(0px 1px 2px rgba(0, 0, 0, 0.3));\n",
              "      fill: #FFFFFF;\n",
              "    }\n",
              "  </style>\n",
              "\n",
              "      <script>\n",
              "        const buttonEl =\n",
              "          document.querySelector('#df-e5e1f530-70cb-4384-9657-b1763d03a35d button.colab-df-convert');\n",
              "        buttonEl.style.display =\n",
              "          google.colab.kernel.accessAllowed ? 'block' : 'none';\n",
              "\n",
              "        async function convertToInteractive(key) {\n",
              "          const element = document.querySelector('#df-e5e1f530-70cb-4384-9657-b1763d03a35d');\n",
              "          const dataTable =\n",
              "            await google.colab.kernel.invokeFunction('convertToInteractive',\n",
              "                                                     [key], {});\n",
              "          if (!dataTable) return;\n",
              "\n",
              "          const docLinkHtml = 'Like what you see? Visit the ' +\n",
              "            '<a target=\"_blank\" href=https://colab.research.google.com/notebooks/data_table.ipynb>data table notebook</a>'\n",
              "            + ' to learn more about interactive tables.';\n",
              "          element.innerHTML = '';\n",
              "          dataTable['output_type'] = 'display_data';\n",
              "          await google.colab.output.renderOutput(dataTable, element);\n",
              "          const docLink = document.createElement('div');\n",
              "          docLink.innerHTML = docLinkHtml;\n",
              "          element.appendChild(docLink);\n",
              "        }\n",
              "      </script>\n",
              "    </div>\n",
              "  </div>\n",
              "  "
            ]
          },
          "metadata": {},
          "execution_count": 263
        }
      ],
      "source": [
        "df = pd.read_excel('/content/drive/MyDrive/aix/final_project/IXIC_2.xlsx')\n",
        "df"
      ]
    },
    {
      "cell_type": "code",
      "execution_count": 264,
      "metadata": {
        "id": "xzoaV4jKZjdl"
      },
      "outputs": [],
      "source": [
        "nasdaq = df.loc[0:122, ['종가']]\n",
        "nasdaq= nasdaq.rename(columns={'종가':'나스닥종가'})"
      ]
    },
    {
      "cell_type": "code",
      "execution_count": 265,
      "metadata": {
        "colab": {
          "base_uri": "https://localhost:8080/",
          "height": 424
        },
        "id": "vGvbs5Z3axAr",
        "outputId": "d98ee0b8-cbe4-46f8-ed41-081b2eb2552d"
      },
      "outputs": [
        {
          "output_type": "execute_result",
          "data": {
            "text/plain": [
              "        나스닥종가\n",
              "0     2813.84\n",
              "1     2966.89\n",
              "2     3091.57\n",
              "3     3046.36\n",
              "4     2827.34\n",
              "..        ...\n",
              "118  15537.69\n",
              "119  15644.97\n",
              "120  14239.88\n",
              "121  13751.40\n",
              "122  14220.52\n",
              "\n",
              "[123 rows x 1 columns]"
            ],
            "text/html": [
              "\n",
              "  <div id=\"df-61ec139c-2424-4fc6-b3e7-3c3da8c9d1ff\">\n",
              "    <div class=\"colab-df-container\">\n",
              "      <div>\n",
              "<style scoped>\n",
              "    .dataframe tbody tr th:only-of-type {\n",
              "        vertical-align: middle;\n",
              "    }\n",
              "\n",
              "    .dataframe tbody tr th {\n",
              "        vertical-align: top;\n",
              "    }\n",
              "\n",
              "    .dataframe thead th {\n",
              "        text-align: right;\n",
              "    }\n",
              "</style>\n",
              "<table border=\"1\" class=\"dataframe\">\n",
              "  <thead>\n",
              "    <tr style=\"text-align: right;\">\n",
              "      <th></th>\n",
              "      <th>나스닥종가</th>\n",
              "    </tr>\n",
              "  </thead>\n",
              "  <tbody>\n",
              "    <tr>\n",
              "      <th>0</th>\n",
              "      <td>2813.84</td>\n",
              "    </tr>\n",
              "    <tr>\n",
              "      <th>1</th>\n",
              "      <td>2966.89</td>\n",
              "    </tr>\n",
              "    <tr>\n",
              "      <th>2</th>\n",
              "      <td>3091.57</td>\n",
              "    </tr>\n",
              "    <tr>\n",
              "      <th>3</th>\n",
              "      <td>3046.36</td>\n",
              "    </tr>\n",
              "    <tr>\n",
              "      <th>4</th>\n",
              "      <td>2827.34</td>\n",
              "    </tr>\n",
              "    <tr>\n",
              "      <th>...</th>\n",
              "      <td>...</td>\n",
              "    </tr>\n",
              "    <tr>\n",
              "      <th>118</th>\n",
              "      <td>15537.69</td>\n",
              "    </tr>\n",
              "    <tr>\n",
              "      <th>119</th>\n",
              "      <td>15644.97</td>\n",
              "    </tr>\n",
              "    <tr>\n",
              "      <th>120</th>\n",
              "      <td>14239.88</td>\n",
              "    </tr>\n",
              "    <tr>\n",
              "      <th>121</th>\n",
              "      <td>13751.40</td>\n",
              "    </tr>\n",
              "    <tr>\n",
              "      <th>122</th>\n",
              "      <td>14220.52</td>\n",
              "    </tr>\n",
              "  </tbody>\n",
              "</table>\n",
              "<p>123 rows × 1 columns</p>\n",
              "</div>\n",
              "      <button class=\"colab-df-convert\" onclick=\"convertToInteractive('df-61ec139c-2424-4fc6-b3e7-3c3da8c9d1ff')\"\n",
              "              title=\"Convert this dataframe to an interactive table.\"\n",
              "              style=\"display:none;\">\n",
              "        \n",
              "  <svg xmlns=\"http://www.w3.org/2000/svg\" height=\"24px\"viewBox=\"0 0 24 24\"\n",
              "       width=\"24px\">\n",
              "    <path d=\"M0 0h24v24H0V0z\" fill=\"none\"/>\n",
              "    <path d=\"M18.56 5.44l.94 2.06.94-2.06 2.06-.94-2.06-.94-.94-2.06-.94 2.06-2.06.94zm-11 1L8.5 8.5l.94-2.06 2.06-.94-2.06-.94L8.5 2.5l-.94 2.06-2.06.94zm10 10l.94 2.06.94-2.06 2.06-.94-2.06-.94-.94-2.06-.94 2.06-2.06.94z\"/><path d=\"M17.41 7.96l-1.37-1.37c-.4-.4-.92-.59-1.43-.59-.52 0-1.04.2-1.43.59L10.3 9.45l-7.72 7.72c-.78.78-.78 2.05 0 2.83L4 21.41c.39.39.9.59 1.41.59.51 0 1.02-.2 1.41-.59l7.78-7.78 2.81-2.81c.8-.78.8-2.07 0-2.86zM5.41 20L4 18.59l7.72-7.72 1.47 1.35L5.41 20z\"/>\n",
              "  </svg>\n",
              "      </button>\n",
              "      \n",
              "  <style>\n",
              "    .colab-df-container {\n",
              "      display:flex;\n",
              "      flex-wrap:wrap;\n",
              "      gap: 12px;\n",
              "    }\n",
              "\n",
              "    .colab-df-convert {\n",
              "      background-color: #E8F0FE;\n",
              "      border: none;\n",
              "      border-radius: 50%;\n",
              "      cursor: pointer;\n",
              "      display: none;\n",
              "      fill: #1967D2;\n",
              "      height: 32px;\n",
              "      padding: 0 0 0 0;\n",
              "      width: 32px;\n",
              "    }\n",
              "\n",
              "    .colab-df-convert:hover {\n",
              "      background-color: #E2EBFA;\n",
              "      box-shadow: 0px 1px 2px rgba(60, 64, 67, 0.3), 0px 1px 3px 1px rgba(60, 64, 67, 0.15);\n",
              "      fill: #174EA6;\n",
              "    }\n",
              "\n",
              "    [theme=dark] .colab-df-convert {\n",
              "      background-color: #3B4455;\n",
              "      fill: #D2E3FC;\n",
              "    }\n",
              "\n",
              "    [theme=dark] .colab-df-convert:hover {\n",
              "      background-color: #434B5C;\n",
              "      box-shadow: 0px 1px 3px 1px rgba(0, 0, 0, 0.15);\n",
              "      filter: drop-shadow(0px 1px 2px rgba(0, 0, 0, 0.3));\n",
              "      fill: #FFFFFF;\n",
              "    }\n",
              "  </style>\n",
              "\n",
              "      <script>\n",
              "        const buttonEl =\n",
              "          document.querySelector('#df-61ec139c-2424-4fc6-b3e7-3c3da8c9d1ff button.colab-df-convert');\n",
              "        buttonEl.style.display =\n",
              "          google.colab.kernel.accessAllowed ? 'block' : 'none';\n",
              "\n",
              "        async function convertToInteractive(key) {\n",
              "          const element = document.querySelector('#df-61ec139c-2424-4fc6-b3e7-3c3da8c9d1ff');\n",
              "          const dataTable =\n",
              "            await google.colab.kernel.invokeFunction('convertToInteractive',\n",
              "                                                     [key], {});\n",
              "          if (!dataTable) return;\n",
              "\n",
              "          const docLinkHtml = 'Like what you see? Visit the ' +\n",
              "            '<a target=\"_blank\" href=https://colab.research.google.com/notebooks/data_table.ipynb>data table notebook</a>'\n",
              "            + ' to learn more about interactive tables.';\n",
              "          element.innerHTML = '';\n",
              "          dataTable['output_type'] = 'display_data';\n",
              "          await google.colab.output.renderOutput(dataTable, element);\n",
              "          const docLink = document.createElement('div');\n",
              "          docLink.innerHTML = docLinkHtml;\n",
              "          element.appendChild(docLink);\n",
              "        }\n",
              "      </script>\n",
              "    </div>\n",
              "  </div>\n",
              "  "
            ]
          },
          "metadata": {},
          "execution_count": 265
        }
      ],
      "source": [
        "nasdaq"
      ]
    },
    {
      "cell_type": "code",
      "execution_count": 266,
      "metadata": {
        "colab": {
          "base_uri": "https://localhost:8080/"
        },
        "id": "plolBT-Eo4Zo",
        "outputId": "724fcc18-e444-4b15-c04b-edee421608c0"
      },
      "outputs": [
        {
          "output_type": "stream",
          "name": "stdout",
          "text": [
            "<class 'pandas.core.frame.DataFrame'>\n",
            "RangeIndex: 123 entries, 0 to 122\n",
            "Data columns (total 1 columns):\n",
            " #   Column  Non-Null Count  Dtype  \n",
            "---  ------  --------------  -----  \n",
            " 0   나스닥종가   123 non-null    float64\n",
            "dtypes: float64(1)\n",
            "memory usage: 1.1 KB\n"
          ]
        }
      ],
      "source": [
        "nasdaq.info()"
      ]
    },
    {
      "cell_type": "markdown",
      "source": [
        "### 1.1.4 국고채, 회사채, 기준금리 데이터 (2012년 1월 ~ 2022년 3월)"
      ],
      "metadata": {
        "id": "WWRgTkobAie4"
      }
    },
    {
      "cell_type": "code",
      "execution_count": 267,
      "metadata": {
        "id": "pr_JUVoVksDb"
      },
      "outputs": [],
      "source": [
        "pd.read_excel('/content/drive/MyDrive/aix/final_project/rate.xlsx')\n",
        "rate = pd.read_excel('/content/drive/MyDrive/aix/final_project/rate.xlsx')"
      ]
    },
    {
      "cell_type": "code",
      "execution_count": 268,
      "metadata": {
        "colab": {
          "base_uri": "https://localhost:8080/",
          "height": 520
        },
        "id": "D4Cr7aF9lNMv",
        "outputId": "c6081943-68a7-4bd0-bccf-389b6655a4b2"
      },
      "outputs": [
        {
          "output_type": "execute_result",
          "data": {
            "text/plain": [
              "          날짜  국고채 3년(평균)  국고채 5년(평균)  국고채 10년(평균)  회사채 3년(평균)  기준금리\n",
              "0    201201월        3.37        3.50         3.80        4.24  3.25\n",
              "1    201202월        3.43        3.55         3.81        4.25  3.25\n",
              "2    201203월        3.55        3.69         3.95        4.36  3.25\n",
              "3    201204월        3.50        3.64         3.90        4.25  3.25\n",
              "4    201205월        3.38        3.49         3.75        4.01  3.25\n",
              "..       ...         ...         ...          ...         ...   ...\n",
              "118  202111월        1.95        2.17         2.36        2.49  1.00\n",
              "119  202112월        1.80        1.98         2.19        2.41  1.00\n",
              "120  202201월        2.06        2.28         2.49        2.63  1.25\n",
              "121  202202월        2.29        2.50         2.69        2.87  1.25\n",
              "122  202203월        2.37        2.60         2.78        3.03  1.25\n",
              "\n",
              "[123 rows x 6 columns]"
            ],
            "text/html": [
              "\n",
              "  <div id=\"df-620f20c9-1386-4ca8-b96a-10808d0d2894\">\n",
              "    <div class=\"colab-df-container\">\n",
              "      <div>\n",
              "<style scoped>\n",
              "    .dataframe tbody tr th:only-of-type {\n",
              "        vertical-align: middle;\n",
              "    }\n",
              "\n",
              "    .dataframe tbody tr th {\n",
              "        vertical-align: top;\n",
              "    }\n",
              "\n",
              "    .dataframe thead th {\n",
              "        text-align: right;\n",
              "    }\n",
              "</style>\n",
              "<table border=\"1\" class=\"dataframe\">\n",
              "  <thead>\n",
              "    <tr style=\"text-align: right;\">\n",
              "      <th></th>\n",
              "      <th>날짜</th>\n",
              "      <th>국고채 3년(평균)</th>\n",
              "      <th>국고채 5년(평균)</th>\n",
              "      <th>국고채 10년(평균)</th>\n",
              "      <th>회사채 3년(평균)</th>\n",
              "      <th>기준금리</th>\n",
              "    </tr>\n",
              "  </thead>\n",
              "  <tbody>\n",
              "    <tr>\n",
              "      <th>0</th>\n",
              "      <td>201201월</td>\n",
              "      <td>3.37</td>\n",
              "      <td>3.50</td>\n",
              "      <td>3.80</td>\n",
              "      <td>4.24</td>\n",
              "      <td>3.25</td>\n",
              "    </tr>\n",
              "    <tr>\n",
              "      <th>1</th>\n",
              "      <td>201202월</td>\n",
              "      <td>3.43</td>\n",
              "      <td>3.55</td>\n",
              "      <td>3.81</td>\n",
              "      <td>4.25</td>\n",
              "      <td>3.25</td>\n",
              "    </tr>\n",
              "    <tr>\n",
              "      <th>2</th>\n",
              "      <td>201203월</td>\n",
              "      <td>3.55</td>\n",
              "      <td>3.69</td>\n",
              "      <td>3.95</td>\n",
              "      <td>4.36</td>\n",
              "      <td>3.25</td>\n",
              "    </tr>\n",
              "    <tr>\n",
              "      <th>3</th>\n",
              "      <td>201204월</td>\n",
              "      <td>3.50</td>\n",
              "      <td>3.64</td>\n",
              "      <td>3.90</td>\n",
              "      <td>4.25</td>\n",
              "      <td>3.25</td>\n",
              "    </tr>\n",
              "    <tr>\n",
              "      <th>4</th>\n",
              "      <td>201205월</td>\n",
              "      <td>3.38</td>\n",
              "      <td>3.49</td>\n",
              "      <td>3.75</td>\n",
              "      <td>4.01</td>\n",
              "      <td>3.25</td>\n",
              "    </tr>\n",
              "    <tr>\n",
              "      <th>...</th>\n",
              "      <td>...</td>\n",
              "      <td>...</td>\n",
              "      <td>...</td>\n",
              "      <td>...</td>\n",
              "      <td>...</td>\n",
              "      <td>...</td>\n",
              "    </tr>\n",
              "    <tr>\n",
              "      <th>118</th>\n",
              "      <td>202111월</td>\n",
              "      <td>1.95</td>\n",
              "      <td>2.17</td>\n",
              "      <td>2.36</td>\n",
              "      <td>2.49</td>\n",
              "      <td>1.00</td>\n",
              "    </tr>\n",
              "    <tr>\n",
              "      <th>119</th>\n",
              "      <td>202112월</td>\n",
              "      <td>1.80</td>\n",
              "      <td>1.98</td>\n",
              "      <td>2.19</td>\n",
              "      <td>2.41</td>\n",
              "      <td>1.00</td>\n",
              "    </tr>\n",
              "    <tr>\n",
              "      <th>120</th>\n",
              "      <td>202201월</td>\n",
              "      <td>2.06</td>\n",
              "      <td>2.28</td>\n",
              "      <td>2.49</td>\n",
              "      <td>2.63</td>\n",
              "      <td>1.25</td>\n",
              "    </tr>\n",
              "    <tr>\n",
              "      <th>121</th>\n",
              "      <td>202202월</td>\n",
              "      <td>2.29</td>\n",
              "      <td>2.50</td>\n",
              "      <td>2.69</td>\n",
              "      <td>2.87</td>\n",
              "      <td>1.25</td>\n",
              "    </tr>\n",
              "    <tr>\n",
              "      <th>122</th>\n",
              "      <td>202203월</td>\n",
              "      <td>2.37</td>\n",
              "      <td>2.60</td>\n",
              "      <td>2.78</td>\n",
              "      <td>3.03</td>\n",
              "      <td>1.25</td>\n",
              "    </tr>\n",
              "  </tbody>\n",
              "</table>\n",
              "<p>123 rows × 6 columns</p>\n",
              "</div>\n",
              "      <button class=\"colab-df-convert\" onclick=\"convertToInteractive('df-620f20c9-1386-4ca8-b96a-10808d0d2894')\"\n",
              "              title=\"Convert this dataframe to an interactive table.\"\n",
              "              style=\"display:none;\">\n",
              "        \n",
              "  <svg xmlns=\"http://www.w3.org/2000/svg\" height=\"24px\"viewBox=\"0 0 24 24\"\n",
              "       width=\"24px\">\n",
              "    <path d=\"M0 0h24v24H0V0z\" fill=\"none\"/>\n",
              "    <path d=\"M18.56 5.44l.94 2.06.94-2.06 2.06-.94-2.06-.94-.94-2.06-.94 2.06-2.06.94zm-11 1L8.5 8.5l.94-2.06 2.06-.94-2.06-.94L8.5 2.5l-.94 2.06-2.06.94zm10 10l.94 2.06.94-2.06 2.06-.94-2.06-.94-.94-2.06-.94 2.06-2.06.94z\"/><path d=\"M17.41 7.96l-1.37-1.37c-.4-.4-.92-.59-1.43-.59-.52 0-1.04.2-1.43.59L10.3 9.45l-7.72 7.72c-.78.78-.78 2.05 0 2.83L4 21.41c.39.39.9.59 1.41.59.51 0 1.02-.2 1.41-.59l7.78-7.78 2.81-2.81c.8-.78.8-2.07 0-2.86zM5.41 20L4 18.59l7.72-7.72 1.47 1.35L5.41 20z\"/>\n",
              "  </svg>\n",
              "      </button>\n",
              "      \n",
              "  <style>\n",
              "    .colab-df-container {\n",
              "      display:flex;\n",
              "      flex-wrap:wrap;\n",
              "      gap: 12px;\n",
              "    }\n",
              "\n",
              "    .colab-df-convert {\n",
              "      background-color: #E8F0FE;\n",
              "      border: none;\n",
              "      border-radius: 50%;\n",
              "      cursor: pointer;\n",
              "      display: none;\n",
              "      fill: #1967D2;\n",
              "      height: 32px;\n",
              "      padding: 0 0 0 0;\n",
              "      width: 32px;\n",
              "    }\n",
              "\n",
              "    .colab-df-convert:hover {\n",
              "      background-color: #E2EBFA;\n",
              "      box-shadow: 0px 1px 2px rgba(60, 64, 67, 0.3), 0px 1px 3px 1px rgba(60, 64, 67, 0.15);\n",
              "      fill: #174EA6;\n",
              "    }\n",
              "\n",
              "    [theme=dark] .colab-df-convert {\n",
              "      background-color: #3B4455;\n",
              "      fill: #D2E3FC;\n",
              "    }\n",
              "\n",
              "    [theme=dark] .colab-df-convert:hover {\n",
              "      background-color: #434B5C;\n",
              "      box-shadow: 0px 1px 3px 1px rgba(0, 0, 0, 0.15);\n",
              "      filter: drop-shadow(0px 1px 2px rgba(0, 0, 0, 0.3));\n",
              "      fill: #FFFFFF;\n",
              "    }\n",
              "  </style>\n",
              "\n",
              "      <script>\n",
              "        const buttonEl =\n",
              "          document.querySelector('#df-620f20c9-1386-4ca8-b96a-10808d0d2894 button.colab-df-convert');\n",
              "        buttonEl.style.display =\n",
              "          google.colab.kernel.accessAllowed ? 'block' : 'none';\n",
              "\n",
              "        async function convertToInteractive(key) {\n",
              "          const element = document.querySelector('#df-620f20c9-1386-4ca8-b96a-10808d0d2894');\n",
              "          const dataTable =\n",
              "            await google.colab.kernel.invokeFunction('convertToInteractive',\n",
              "                                                     [key], {});\n",
              "          if (!dataTable) return;\n",
              "\n",
              "          const docLinkHtml = 'Like what you see? Visit the ' +\n",
              "            '<a target=\"_blank\" href=https://colab.research.google.com/notebooks/data_table.ipynb>data table notebook</a>'\n",
              "            + ' to learn more about interactive tables.';\n",
              "          element.innerHTML = '';\n",
              "          dataTable['output_type'] = 'display_data';\n",
              "          await google.colab.output.renderOutput(dataTable, element);\n",
              "          const docLink = document.createElement('div');\n",
              "          docLink.innerHTML = docLinkHtml;\n",
              "          element.appendChild(docLink);\n",
              "        }\n",
              "      </script>\n",
              "    </div>\n",
              "  </div>\n",
              "  "
            ]
          },
          "metadata": {},
          "execution_count": 268
        }
      ],
      "source": [
        "rate"
      ]
    },
    {
      "cell_type": "code",
      "execution_count": 269,
      "metadata": {
        "id": "EEk3H6ynmZk7"
      },
      "outputs": [],
      "source": [
        "rate = rate.iloc[:, [1,2,3,4,5]]"
      ]
    },
    {
      "cell_type": "code",
      "execution_count": 270,
      "metadata": {
        "colab": {
          "base_uri": "https://localhost:8080/"
        },
        "id": "9-Zdy0_zmgVG",
        "outputId": "ddf04d63-edd7-4db3-8b7c-104f04975c2c"
      },
      "outputs": [
        {
          "output_type": "stream",
          "name": "stdout",
          "text": [
            "<class 'pandas.core.frame.DataFrame'>\n",
            "RangeIndex: 123 entries, 0 to 122\n",
            "Data columns (total 5 columns):\n",
            " #   Column       Non-Null Count  Dtype  \n",
            "---  ------       --------------  -----  \n",
            " 0   국고채 3년(평균)   123 non-null    float64\n",
            " 1   국고채 5년(평균)   123 non-null    float64\n",
            " 2   국고채 10년(평균)  123 non-null    float64\n",
            " 3   회사채 3년(평균)   123 non-null    float64\n",
            " 4   기준금리         123 non-null    float64\n",
            "dtypes: float64(5)\n",
            "memory usage: 4.9 KB\n"
          ]
        }
      ],
      "source": [
        "rate.info()"
      ]
    },
    {
      "cell_type": "code",
      "execution_count": 271,
      "metadata": {
        "id": "FQevnCNKmx7G"
      },
      "outputs": [],
      "source": [
        "# 기간 : 2012년 1월 ~ 2022년 3월\n",
        "# apt_avg : 수도권 아파트 평균매매 가격\n",
        "# kospi_kosdaq : 코스피, 코스닥 지수\n",
        "# nasdaq : 나스닥 지수\n",
        "# rate : 국고채, 회사채, 기준금리"
      ]
    },
    {
      "cell_type": "code",
      "execution_count": 272,
      "metadata": {
        "id": "V7AKyMrfnyMg",
        "colab": {
          "base_uri": "https://localhost:8080/",
          "height": 832
        },
        "outputId": "21aaaf71-50c0-4933-d203-139df5bb1e9b"
      },
      "outputs": [
        {
          "output_type": "execute_result",
          "data": {
            "text/plain": [
              "            날짜     평균매매가격    코스피지수    코스닥지수     나스닥종가  국고채3년평균  국고채5년평균  \\\n",
              "0    2012년 01월  365249000  1955.79   513.99   2813.84     3.37     3.50   \n",
              "1    2012년 02월  364275000  2030.25   542.30   2966.89     3.43     3.55   \n",
              "2    2012년 03월  362790000  2014.04   519.56   3091.57     3.55     3.69   \n",
              "3    2012년 04월  360918000  1981.99   478.89   3046.36     3.50     3.64   \n",
              "4    2012년 05월  359253000  1843.47   471.94   2827.34     3.38     3.49   \n",
              "..         ...        ...      ...      ...       ...      ...      ...   \n",
              "118  2021년 11월  756331000  2839.01   965.63  15537.69     1.95     2.17   \n",
              "119  2021년 12월  758448000  2977.65  1033.98  15644.97     1.80     1.98   \n",
              "120  2022년 01월  758407000  2663.34   872.87  14239.88     2.06     2.28   \n",
              "121  2022년 02월  757620000  2699.18   881.07  13751.40     2.29     2.50   \n",
              "122  2022년 03월  756560000  2757.65   944.53  14220.52     2.37     2.60   \n",
              "\n",
              "     국고채10년평균  회사채3년평균  기준금리  \n",
              "0        3.80     4.24  3.25  \n",
              "1        3.81     4.25  3.25  \n",
              "2        3.95     4.36  3.25  \n",
              "3        3.90     4.25  3.25  \n",
              "4        3.75     4.01  3.25  \n",
              "..        ...      ...   ...  \n",
              "118      2.36     2.49  1.00  \n",
              "119      2.19     2.41  1.00  \n",
              "120      2.49     2.63  1.25  \n",
              "121      2.69     2.87  1.25  \n",
              "122      2.78     3.03  1.25  \n",
              "\n",
              "[123 rows x 10 columns]"
            ],
            "text/html": [
              "\n",
              "  <div id=\"df-dd96b58f-ac6f-4b9a-b6c8-55be703c5307\">\n",
              "    <div class=\"colab-df-container\">\n",
              "      <div>\n",
              "<style scoped>\n",
              "    .dataframe tbody tr th:only-of-type {\n",
              "        vertical-align: middle;\n",
              "    }\n",
              "\n",
              "    .dataframe tbody tr th {\n",
              "        vertical-align: top;\n",
              "    }\n",
              "\n",
              "    .dataframe thead th {\n",
              "        text-align: right;\n",
              "    }\n",
              "</style>\n",
              "<table border=\"1\" class=\"dataframe\">\n",
              "  <thead>\n",
              "    <tr style=\"text-align: right;\">\n",
              "      <th></th>\n",
              "      <th>날짜</th>\n",
              "      <th>평균매매가격</th>\n",
              "      <th>코스피지수</th>\n",
              "      <th>코스닥지수</th>\n",
              "      <th>나스닥종가</th>\n",
              "      <th>국고채3년평균</th>\n",
              "      <th>국고채5년평균</th>\n",
              "      <th>국고채10년평균</th>\n",
              "      <th>회사채3년평균</th>\n",
              "      <th>기준금리</th>\n",
              "    </tr>\n",
              "  </thead>\n",
              "  <tbody>\n",
              "    <tr>\n",
              "      <th>0</th>\n",
              "      <td>2012년 01월</td>\n",
              "      <td>365249000</td>\n",
              "      <td>1955.79</td>\n",
              "      <td>513.99</td>\n",
              "      <td>2813.84</td>\n",
              "      <td>3.37</td>\n",
              "      <td>3.50</td>\n",
              "      <td>3.80</td>\n",
              "      <td>4.24</td>\n",
              "      <td>3.25</td>\n",
              "    </tr>\n",
              "    <tr>\n",
              "      <th>1</th>\n",
              "      <td>2012년 02월</td>\n",
              "      <td>364275000</td>\n",
              "      <td>2030.25</td>\n",
              "      <td>542.30</td>\n",
              "      <td>2966.89</td>\n",
              "      <td>3.43</td>\n",
              "      <td>3.55</td>\n",
              "      <td>3.81</td>\n",
              "      <td>4.25</td>\n",
              "      <td>3.25</td>\n",
              "    </tr>\n",
              "    <tr>\n",
              "      <th>2</th>\n",
              "      <td>2012년 03월</td>\n",
              "      <td>362790000</td>\n",
              "      <td>2014.04</td>\n",
              "      <td>519.56</td>\n",
              "      <td>3091.57</td>\n",
              "      <td>3.55</td>\n",
              "      <td>3.69</td>\n",
              "      <td>3.95</td>\n",
              "      <td>4.36</td>\n",
              "      <td>3.25</td>\n",
              "    </tr>\n",
              "    <tr>\n",
              "      <th>3</th>\n",
              "      <td>2012년 04월</td>\n",
              "      <td>360918000</td>\n",
              "      <td>1981.99</td>\n",
              "      <td>478.89</td>\n",
              "      <td>3046.36</td>\n",
              "      <td>3.50</td>\n",
              "      <td>3.64</td>\n",
              "      <td>3.90</td>\n",
              "      <td>4.25</td>\n",
              "      <td>3.25</td>\n",
              "    </tr>\n",
              "    <tr>\n",
              "      <th>4</th>\n",
              "      <td>2012년 05월</td>\n",
              "      <td>359253000</td>\n",
              "      <td>1843.47</td>\n",
              "      <td>471.94</td>\n",
              "      <td>2827.34</td>\n",
              "      <td>3.38</td>\n",
              "      <td>3.49</td>\n",
              "      <td>3.75</td>\n",
              "      <td>4.01</td>\n",
              "      <td>3.25</td>\n",
              "    </tr>\n",
              "    <tr>\n",
              "      <th>...</th>\n",
              "      <td>...</td>\n",
              "      <td>...</td>\n",
              "      <td>...</td>\n",
              "      <td>...</td>\n",
              "      <td>...</td>\n",
              "      <td>...</td>\n",
              "      <td>...</td>\n",
              "      <td>...</td>\n",
              "      <td>...</td>\n",
              "      <td>...</td>\n",
              "    </tr>\n",
              "    <tr>\n",
              "      <th>118</th>\n",
              "      <td>2021년 11월</td>\n",
              "      <td>756331000</td>\n",
              "      <td>2839.01</td>\n",
              "      <td>965.63</td>\n",
              "      <td>15537.69</td>\n",
              "      <td>1.95</td>\n",
              "      <td>2.17</td>\n",
              "      <td>2.36</td>\n",
              "      <td>2.49</td>\n",
              "      <td>1.00</td>\n",
              "    </tr>\n",
              "    <tr>\n",
              "      <th>119</th>\n",
              "      <td>2021년 12월</td>\n",
              "      <td>758448000</td>\n",
              "      <td>2977.65</td>\n",
              "      <td>1033.98</td>\n",
              "      <td>15644.97</td>\n",
              "      <td>1.80</td>\n",
              "      <td>1.98</td>\n",
              "      <td>2.19</td>\n",
              "      <td>2.41</td>\n",
              "      <td>1.00</td>\n",
              "    </tr>\n",
              "    <tr>\n",
              "      <th>120</th>\n",
              "      <td>2022년 01월</td>\n",
              "      <td>758407000</td>\n",
              "      <td>2663.34</td>\n",
              "      <td>872.87</td>\n",
              "      <td>14239.88</td>\n",
              "      <td>2.06</td>\n",
              "      <td>2.28</td>\n",
              "      <td>2.49</td>\n",
              "      <td>2.63</td>\n",
              "      <td>1.25</td>\n",
              "    </tr>\n",
              "    <tr>\n",
              "      <th>121</th>\n",
              "      <td>2022년 02월</td>\n",
              "      <td>757620000</td>\n",
              "      <td>2699.18</td>\n",
              "      <td>881.07</td>\n",
              "      <td>13751.40</td>\n",
              "      <td>2.29</td>\n",
              "      <td>2.50</td>\n",
              "      <td>2.69</td>\n",
              "      <td>2.87</td>\n",
              "      <td>1.25</td>\n",
              "    </tr>\n",
              "    <tr>\n",
              "      <th>122</th>\n",
              "      <td>2022년 03월</td>\n",
              "      <td>756560000</td>\n",
              "      <td>2757.65</td>\n",
              "      <td>944.53</td>\n",
              "      <td>14220.52</td>\n",
              "      <td>2.37</td>\n",
              "      <td>2.60</td>\n",
              "      <td>2.78</td>\n",
              "      <td>3.03</td>\n",
              "      <td>1.25</td>\n",
              "    </tr>\n",
              "  </tbody>\n",
              "</table>\n",
              "<p>123 rows × 10 columns</p>\n",
              "</div>\n",
              "      <button class=\"colab-df-convert\" onclick=\"convertToInteractive('df-dd96b58f-ac6f-4b9a-b6c8-55be703c5307')\"\n",
              "              title=\"Convert this dataframe to an interactive table.\"\n",
              "              style=\"display:none;\">\n",
              "        \n",
              "  <svg xmlns=\"http://www.w3.org/2000/svg\" height=\"24px\"viewBox=\"0 0 24 24\"\n",
              "       width=\"24px\">\n",
              "    <path d=\"M0 0h24v24H0V0z\" fill=\"none\"/>\n",
              "    <path d=\"M18.56 5.44l.94 2.06.94-2.06 2.06-.94-2.06-.94-.94-2.06-.94 2.06-2.06.94zm-11 1L8.5 8.5l.94-2.06 2.06-.94-2.06-.94L8.5 2.5l-.94 2.06-2.06.94zm10 10l.94 2.06.94-2.06 2.06-.94-2.06-.94-.94-2.06-.94 2.06-2.06.94z\"/><path d=\"M17.41 7.96l-1.37-1.37c-.4-.4-.92-.59-1.43-.59-.52 0-1.04.2-1.43.59L10.3 9.45l-7.72 7.72c-.78.78-.78 2.05 0 2.83L4 21.41c.39.39.9.59 1.41.59.51 0 1.02-.2 1.41-.59l7.78-7.78 2.81-2.81c.8-.78.8-2.07 0-2.86zM5.41 20L4 18.59l7.72-7.72 1.47 1.35L5.41 20z\"/>\n",
              "  </svg>\n",
              "      </button>\n",
              "      \n",
              "  <style>\n",
              "    .colab-df-container {\n",
              "      display:flex;\n",
              "      flex-wrap:wrap;\n",
              "      gap: 12px;\n",
              "    }\n",
              "\n",
              "    .colab-df-convert {\n",
              "      background-color: #E8F0FE;\n",
              "      border: none;\n",
              "      border-radius: 50%;\n",
              "      cursor: pointer;\n",
              "      display: none;\n",
              "      fill: #1967D2;\n",
              "      height: 32px;\n",
              "      padding: 0 0 0 0;\n",
              "      width: 32px;\n",
              "    }\n",
              "\n",
              "    .colab-df-convert:hover {\n",
              "      background-color: #E2EBFA;\n",
              "      box-shadow: 0px 1px 2px rgba(60, 64, 67, 0.3), 0px 1px 3px 1px rgba(60, 64, 67, 0.15);\n",
              "      fill: #174EA6;\n",
              "    }\n",
              "\n",
              "    [theme=dark] .colab-df-convert {\n",
              "      background-color: #3B4455;\n",
              "      fill: #D2E3FC;\n",
              "    }\n",
              "\n",
              "    [theme=dark] .colab-df-convert:hover {\n",
              "      background-color: #434B5C;\n",
              "      box-shadow: 0px 1px 3px 1px rgba(0, 0, 0, 0.15);\n",
              "      filter: drop-shadow(0px 1px 2px rgba(0, 0, 0, 0.3));\n",
              "      fill: #FFFFFF;\n",
              "    }\n",
              "  </style>\n",
              "\n",
              "      <script>\n",
              "        const buttonEl =\n",
              "          document.querySelector('#df-dd96b58f-ac6f-4b9a-b6c8-55be703c5307 button.colab-df-convert');\n",
              "        buttonEl.style.display =\n",
              "          google.colab.kernel.accessAllowed ? 'block' : 'none';\n",
              "\n",
              "        async function convertToInteractive(key) {\n",
              "          const element = document.querySelector('#df-dd96b58f-ac6f-4b9a-b6c8-55be703c5307');\n",
              "          const dataTable =\n",
              "            await google.colab.kernel.invokeFunction('convertToInteractive',\n",
              "                                                     [key], {});\n",
              "          if (!dataTable) return;\n",
              "\n",
              "          const docLinkHtml = 'Like what you see? Visit the ' +\n",
              "            '<a target=\"_blank\" href=https://colab.research.google.com/notebooks/data_table.ipynb>data table notebook</a>'\n",
              "            + ' to learn more about interactive tables.';\n",
              "          element.innerHTML = '';\n",
              "          dataTable['output_type'] = 'display_data';\n",
              "          await google.colab.output.renderOutput(dataTable, element);\n",
              "          const docLink = document.createElement('div');\n",
              "          docLink.innerHTML = docLinkHtml;\n",
              "          element.appendChild(docLink);\n",
              "        }\n",
              "      </script>\n",
              "    </div>\n",
              "  </div>\n",
              "  "
            ]
          },
          "metadata": {},
          "execution_count": 272
        }
      ],
      "source": [
        "dataset = pd.concat([apt_avg, kospi_kosdaq, nasdaq, rate],axis=1)\n",
        "dataset.columns = ['날짜', '평균매매가격', '코스피지수', '코스닥지수', '나스닥종가', '국고채3년평균', '국고채5년평균', '국고채10년평균', '회사채3년평균', '기준금리']\n",
        "dataset"
      ]
    },
    {
      "cell_type": "code",
      "execution_count": 273,
      "metadata": {
        "colab": {
          "base_uri": "https://localhost:8080/"
        },
        "id": "N3jjZq-G40gR",
        "outputId": "5bf0b12c-9b5b-4445-90f9-e1880d11e27a"
      },
      "outputs": [
        {
          "output_type": "stream",
          "name": "stdout",
          "text": [
            "<class 'pandas.core.frame.DataFrame'>\n",
            "RangeIndex: 123 entries, 0 to 122\n",
            "Data columns (total 10 columns):\n",
            " #   Column    Non-Null Count  Dtype  \n",
            "---  ------    --------------  -----  \n",
            " 0   날짜        123 non-null    object \n",
            " 1   평균매매가격    123 non-null    int64  \n",
            " 2   코스피지수     123 non-null    float64\n",
            " 3   코스닥지수     123 non-null    float64\n",
            " 4   나스닥종가     123 non-null    float64\n",
            " 5   국고채3년평균   123 non-null    float64\n",
            " 6   국고채5년평균   123 non-null    float64\n",
            " 7   국고채10년평균  123 non-null    float64\n",
            " 8   회사채3년평균   123 non-null    float64\n",
            " 9   기준금리      123 non-null    float64\n",
            "dtypes: float64(8), int64(1), object(1)\n",
            "memory usage: 9.7+ KB\n"
          ]
        }
      ],
      "source": [
        "dataset.info()"
      ]
    },
    {
      "cell_type": "code",
      "execution_count": 274,
      "metadata": {
        "colab": {
          "base_uri": "https://localhost:8080/"
        },
        "id": "UwJzVqY-SFQx",
        "outputId": "9ca5aa83-a02c-4099-826e-d88e94308d09"
      },
      "outputs": [
        {
          "output_type": "execute_result",
          "data": {
            "text/plain": [
              "날짜          0\n",
              "평균매매가격      0\n",
              "코스피지수       0\n",
              "코스닥지수       0\n",
              "나스닥종가       0\n",
              "국고채3년평균     0\n",
              "국고채5년평균     0\n",
              "국고채10년평균    0\n",
              "회사채3년평균     0\n",
              "기준금리        0\n",
              "dtype: int64"
            ]
          },
          "metadata": {},
          "execution_count": 274
        }
      ],
      "source": [
        "# 결측치 확인\n",
        "\n",
        "dataset.isnull().sum()"
      ]
    },
    {
      "cell_type": "markdown",
      "source": [
        "## 1.2 탐색적 데이터분석"
      ],
      "metadata": {
        "id": "i-IGFYvkWjbF"
      }
    },
    {
      "cell_type": "code",
      "execution_count": 275,
      "metadata": {
        "colab": {
          "base_uri": "https://localhost:8080/",
          "height": 276
        },
        "id": "-6J9nEQYHHQ9",
        "outputId": "eaa2eb04-feba-4510-abdf-8652e5729eeb"
      },
      "outputs": [
        {
          "output_type": "display_data",
          "data": {
            "text/plain": [
              "<Figure size 432x288 with 1 Axes>"
            ],
            "image/png": "[encoded data removed]"
          },
          "metadata": {
            "needs_background": "light"
          }
        }
      ],
      "source": [
        "plt.scatter(dataset[['나스닥종가']], dataset[['평균매매가격']])\n",
        "plt.show()"
      ]
    },
    {
      "cell_type": "code",
      "execution_count": 276,
      "metadata": {
        "id": "F4CSo9x0GhBh"
      },
      "outputs": [],
      "source": [
        "import matplotlib.pyplot as plt"
      ]
    },
    {
      "cell_type": "code",
      "execution_count": 277,
      "metadata": {
        "colab": {
          "base_uri": "https://localhost:8080/",
          "height": 276
        },
        "id": "V7Gdz7cQG79q",
        "outputId": "6e35468d-e24e-4ff5-dadb-c44bb6688a37"
      },
      "outputs": [
        {
          "output_type": "display_data",
          "data": {
            "text/plain": [
              "<Figure size 432x288 with 1 Axes>"
            ],
            "image/png": "[encoded data removed]"
          },
          "metadata": {
            "needs_background": "light"
          }
        }
      ],
      "source": [
        "plt.scatter(dataset[['코스피지수']], dataset[['평균매매가격']])\n",
        "plt.show()"
      ]
    },
    {
      "cell_type": "code",
      "execution_count": 278,
      "metadata": {
        "colab": {
          "base_uri": "https://localhost:8080/",
          "height": 276
        },
        "id": "QYpXre6TH3Tk",
        "outputId": "b66b6ee5-55ab-459a-df56-3c1bc3010fa9"
      },
      "outputs": [
        {
          "output_type": "display_data",
          "data": {
            "text/plain": [
              "<Figure size 432x288 with 1 Axes>"
            ],
            "image/png": "[encoded data removed]"
          },
          "metadata": {
            "needs_background": "light"
          }
        }
      ],
      "source": [
        "plt.scatter(dataset[['코스닥지수']], dataset[['평균매매가격']])\n",
        "plt.show()"
      ]
    },
    {
      "cell_type": "code",
      "execution_count": 279,
      "metadata": {
        "colab": {
          "base_uri": "https://localhost:8080/",
          "height": 276
        },
        "id": "a3MIX_9wGLRT",
        "outputId": "b21315c4-2982-4672-c2e7-a5b6d8a7ed8f"
      },
      "outputs": [
        {
          "output_type": "display_data",
          "data": {
            "text/plain": [
              "<Figure size 432x288 with 1 Axes>"
            ],
            "image/png": "[encoded data removed]"
          },
          "metadata": {
            "needs_background": "light"
          }
        }
      ],
      "source": [
        "plt.scatter(dataset[['기준금리']], dataset[['평균매매가격']])\n",
        "plt.show()"
      ]
    },
    {
      "cell_type": "code",
      "execution_count": 280,
      "metadata": {
        "colab": {
          "base_uri": "https://localhost:8080/",
          "height": 276
        },
        "id": "LnXvnBQXHGye",
        "outputId": "6998a508-256a-49f0-f659-e72357fc077e"
      },
      "outputs": [
        {
          "output_type": "display_data",
          "data": {
            "text/plain": [
              "<Figure size 432x288 with 1 Axes>"
            ],
            "image/png": "[encoded data removed]"
          },
          "metadata": {
            "needs_background": "light"
          }
        }
      ],
      "source": [
        "plt.scatter(dataset[['국고채10년평균']], dataset[['평균매매가격']], c='r',alpha=0.6)\n",
        "plt.show()"
      ]
    },
    {
      "cell_type": "code",
      "source": [
        "plt.scatter(dataset[['국고채5년평균']], dataset[['평균매매가격']], c='r',alpha=0.6)\n",
        "plt.show()"
      ],
      "metadata": {
        "colab": {
          "base_uri": "https://localhost:8080/",
          "height": 276
        },
        "id": "HXrmRBrTXVrC",
        "outputId": "ce1f6455-3586-4ce9-c076-36842a0c1a74"
      },
      "execution_count": 281,
      "outputs": [
        {
          "output_type": "display_data",
          "data": {
            "text/plain": [
              "<Figure size 432x288 with 1 Axes>"
            ],
            "image/png": "[encoded data removed]"
          },
          "metadata": {
            "needs_background": "light"
          }
        }
      ]
    },
    {
      "cell_type": "code",
      "source": [
        "plt.scatter(dataset[['국고채3년평균']], dataset[['평균매매가격']], c='r',alpha=0.6)\n",
        "plt.show()"
      ],
      "metadata": {
        "colab": {
          "base_uri": "https://localhost:8080/",
          "height": 276
        },
        "id": "ga-WPtpKYnKr",
        "outputId": "f436b4e0-2d3e-424e-cb14-f44f0e9ce0e6"
      },
      "execution_count": 282,
      "outputs": [
        {
          "output_type": "display_data",
          "data": {
            "text/plain": [
              "<Figure size 432x288 with 1 Axes>"
            ],
            "image/png": "[encoded data removed]"
          },
          "metadata": {
            "needs_background": "light"
          }
        }
      ]
    },
    {
      "cell_type": "code",
      "source": [
        "plt.scatter(dataset[['회사채3년평균']], dataset[['평균매매가격']], c='r',alpha=0.6)\n",
        "plt.show()"
      ],
      "metadata": {
        "colab": {
          "base_uri": "https://localhost:8080/",
          "height": 276
        },
        "id": "8X9gzb-LYrAl",
        "outputId": "4272d43c-139a-4bb3-c18b-b51703c31d79"
      },
      "execution_count": 283,
      "outputs": [
        {
          "output_type": "display_data",
          "data": {
            "text/plain": [
              "<Figure size 432x288 with 1 Axes>"
            ],
            "image/png": "[encoded data removed]"
          },
          "metadata": {
            "needs_background": "light"
          }
        }
      ]
    },
    {
      "cell_type": "markdown",
      "metadata": {
        "id": "4acOIXhzT8D9"
      },
      "source": [
        "\n",
        "## 1.3 데이터 표준화\n",
        "\n",
        "* 변수들은 범위가 크게 다르다. 범위가 다른 데이터셋으로 신경망을 훈력시키면 범위가 큰 변수가 더 강하게 작용해 신경망이 이 변수에 더 중심을 두게 된다. \n",
        "\n",
        "* 따라서, 데이터 표준화(데이터셋의 각 숫자 변수를 평균이 0, 분산이 1이 되도록 변환하는 데이터 전처리 과정)을 거치는 것이 필요하다.\n",
        "\n",
        "* 사이킷런의 preprocessing 클래스를 사용해 수행한다."
      ]
    },
    {
      "cell_type": "code",
      "source": [
        "dataset.drop(columns=['날짜','국고채3년평균','국고채5년평균','국고채10년평균','회사채3년평균'],axis=1)"
      ],
      "metadata": {
        "colab": {
          "base_uri": "https://localhost:8080/",
          "height": 424
        },
        "id": "3BYRVu-X0hXo",
        "outputId": "4518778f-3ea8-4552-bf8c-7278229d9b9d"
      },
      "execution_count": 284,
      "outputs": [
        {
          "output_type": "execute_result",
          "data": {
            "text/plain": [
              "        평균매매가격    코스피지수    코스닥지수     나스닥종가  기준금리\n",
              "0    365249000  1955.79   513.99   2813.84  3.25\n",
              "1    364275000  2030.25   542.30   2966.89  3.25\n",
              "2    362790000  2014.04   519.56   3091.57  3.25\n",
              "3    360918000  1981.99   478.89   3046.36  3.25\n",
              "4    359253000  1843.47   471.94   2827.34  3.25\n",
              "..         ...      ...      ...       ...   ...\n",
              "118  756331000  2839.01   965.63  15537.69  1.00\n",
              "119  758448000  2977.65  1033.98  15644.97  1.00\n",
              "120  758407000  2663.34   872.87  14239.88  1.25\n",
              "121  757620000  2699.18   881.07  13751.40  1.25\n",
              "122  756560000  2757.65   944.53  14220.52  1.25\n",
              "\n",
              "[123 rows x 5 columns]"
            ],
            "text/html": [
              "\n",
              "  <div id=\"df-ad093552-9baf-4643-98f1-a381ad61548c\">\n",
              "    <div class=\"colab-df-container\">\n",
              "      <div>\n",
              "<style scoped>\n",
              "    .dataframe tbody tr th:only-of-type {\n",
              "        vertical-align: middle;\n",
              "    }\n",
              "\n",
              "    .dataframe tbody tr th {\n",
              "        vertical-align: top;\n",
              "    }\n",
              "\n",
              "    .dataframe thead th {\n",
              "        text-align: right;\n",
              "    }\n",
              "</style>\n",
              "<table border=\"1\" class=\"dataframe\">\n",
              "  <thead>\n",
              "    <tr style=\"text-align: right;\">\n",
              "      <th></th>\n",
              "      <th>평균매매가격</th>\n",
              "      <th>코스피지수</th>\n",
              "      <th>코스닥지수</th>\n",
              "      <th>나스닥종가</th>\n",
              "      <th>기준금리</th>\n",
              "    </tr>\n",
              "  </thead>\n",
              "  <tbody>\n",
              "    <tr>\n",
              "      <th>0</th>\n",
              "      <td>365249000</td>\n",
              "      <td>1955.79</td>\n",
              "      <td>513.99</td>\n",
              "      <td>2813.84</td>\n",
              "      <td>3.25</td>\n",
              "    </tr>\n",
              "    <tr>\n",
              "      <th>1</th>\n",
              "      <td>364275000</td>\n",
              "      <td>2030.25</td>\n",
              "      <td>542.30</td>\n",
              "      <td>2966.89</td>\n",
              "      <td>3.25</td>\n",
              "    </tr>\n",
              "    <tr>\n",
              "      <th>2</th>\n",
              "      <td>362790000</td>\n",
              "      <td>2014.04</td>\n",
              "      <td>519.56</td>\n",
              "      <td>3091.57</td>\n",
              "      <td>3.25</td>\n",
              "    </tr>\n",
              "    <tr>\n",
              "      <th>3</th>\n",
              "      <td>360918000</td>\n",
              "      <td>1981.99</td>\n",
              "      <td>478.89</td>\n",
              "      <td>3046.36</td>\n",
              "      <td>3.25</td>\n",
              "    </tr>\n",
              "    <tr>\n",
              "      <th>4</th>\n",
              "      <td>359253000</td>\n",
              "      <td>1843.47</td>\n",
              "      <td>471.94</td>\n",
              "      <td>2827.34</td>\n",
              "      <td>3.25</td>\n",
              "    </tr>\n",
              "    <tr>\n",
              "      <th>...</th>\n",
              "      <td>...</td>\n",
              "      <td>...</td>\n",
              "      <td>...</td>\n",
              "      <td>...</td>\n",
              "      <td>...</td>\n",
              "    </tr>\n",
              "    <tr>\n",
              "      <th>118</th>\n",
              "      <td>756331000</td>\n",
              "      <td>2839.01</td>\n",
              "      <td>965.63</td>\n",
              "      <td>15537.69</td>\n",
              "      <td>1.00</td>\n",
              "    </tr>\n",
              "    <tr>\n",
              "      <th>119</th>\n",
              "      <td>758448000</td>\n",
              "      <td>2977.65</td>\n",
              "      <td>1033.98</td>\n",
              "      <td>15644.97</td>\n",
              "      <td>1.00</td>\n",
              "    </tr>\n",
              "    <tr>\n",
              "      <th>120</th>\n",
              "      <td>758407000</td>\n",
              "      <td>2663.34</td>\n",
              "      <td>872.87</td>\n",
              "      <td>14239.88</td>\n",
              "      <td>1.25</td>\n",
              "    </tr>\n",
              "    <tr>\n",
              "      <th>121</th>\n",
              "      <td>757620000</td>\n",
              "      <td>2699.18</td>\n",
              "      <td>881.07</td>\n",
              "      <td>13751.40</td>\n",
              "      <td>1.25</td>\n",
              "    </tr>\n",
              "    <tr>\n",
              "      <th>122</th>\n",
              "      <td>756560000</td>\n",
              "      <td>2757.65</td>\n",
              "      <td>944.53</td>\n",
              "      <td>14220.52</td>\n",
              "      <td>1.25</td>\n",
              "    </tr>\n",
              "  </tbody>\n",
              "</table>\n",
              "<p>123 rows × 5 columns</p>\n",
              "</div>\n",
              "      <button class=\"colab-df-convert\" onclick=\"convertToInteractive('df-ad093552-9baf-4643-98f1-a381ad61548c')\"\n",
              "              title=\"Convert this dataframe to an interactive table.\"\n",
              "              style=\"display:none;\">\n",
              "        \n",
              "  <svg xmlns=\"http://www.w3.org/2000/svg\" height=\"24px\"viewBox=\"0 0 24 24\"\n",
              "       width=\"24px\">\n",
              "    <path d=\"M0 0h24v24H0V0z\" fill=\"none\"/>\n",
              "    <path d=\"M18.56 5.44l.94 2.06.94-2.06 2.06-.94-2.06-.94-.94-2.06-.94 2.06-2.06.94zm-11 1L8.5 8.5l.94-2.06 2.06-.94-2.06-.94L8.5 2.5l-.94 2.06-2.06.94zm10 10l.94 2.06.94-2.06 2.06-.94-2.06-.94-.94-2.06-.94 2.06-2.06.94z\"/><path d=\"M17.41 7.96l-1.37-1.37c-.4-.4-.92-.59-1.43-.59-.52 0-1.04.2-1.43.59L10.3 9.45l-7.72 7.72c-.78.78-.78 2.05 0 2.83L4 21.41c.39.39.9.59 1.41.59.51 0 1.02-.2 1.41-.59l7.78-7.78 2.81-2.81c.8-.78.8-2.07 0-2.86zM5.41 20L4 18.59l7.72-7.72 1.47 1.35L5.41 20z\"/>\n",
              "  </svg>\n",
              "      </button>\n",
              "      \n",
              "  <style>\n",
              "    .colab-df-container {\n",
              "      display:flex;\n",
              "      flex-wrap:wrap;\n",
              "      gap: 12px;\n",
              "    }\n",
              "\n",
              "    .colab-df-convert {\n",
              "      background-color: #E8F0FE;\n",
              "      border: none;\n",
              "      border-radius: 50%;\n",
              "      cursor: pointer;\n",
              "      display: none;\n",
              "      fill: #1967D2;\n",
              "      height: 32px;\n",
              "      padding: 0 0 0 0;\n",
              "      width: 32px;\n",
              "    }\n",
              "\n",
              "    .colab-df-convert:hover {\n",
              "      background-color: #E2EBFA;\n",
              "      box-shadow: 0px 1px 2px rgba(60, 64, 67, 0.3), 0px 1px 3px 1px rgba(60, 64, 67, 0.15);\n",
              "      fill: #174EA6;\n",
              "    }\n",
              "\n",
              "    [theme=dark] .colab-df-convert {\n",
              "      background-color: #3B4455;\n",
              "      fill: #D2E3FC;\n",
              "    }\n",
              "\n",
              "    [theme=dark] .colab-df-convert:hover {\n",
              "      background-color: #434B5C;\n",
              "      box-shadow: 0px 1px 3px 1px rgba(0, 0, 0, 0.15);\n",
              "      filter: drop-shadow(0px 1px 2px rgba(0, 0, 0, 0.3));\n",
              "      fill: #FFFFFF;\n",
              "    }\n",
              "  </style>\n",
              "\n",
              "      <script>\n",
              "        const buttonEl =\n",
              "          document.querySelector('#df-ad093552-9baf-4643-98f1-a381ad61548c button.colab-df-convert');\n",
              "        buttonEl.style.display =\n",
              "          google.colab.kernel.accessAllowed ? 'block' : 'none';\n",
              "\n",
              "        async function convertToInteractive(key) {\n",
              "          const element = document.querySelector('#df-ad093552-9baf-4643-98f1-a381ad61548c');\n",
              "          const dataTable =\n",
              "            await google.colab.kernel.invokeFunction('convertToInteractive',\n",
              "                                                     [key], {});\n",
              "          if (!dataTable) return;\n",
              "\n",
              "          const docLinkHtml = 'Like what you see? Visit the ' +\n",
              "            '<a target=\"_blank\" href=https://colab.research.google.com/notebooks/data_table.ipynb>data table notebook</a>'\n",
              "            + ' to learn more about interactive tables.';\n",
              "          element.innerHTML = '';\n",
              "          dataTable['output_type'] = 'display_data';\n",
              "          await google.colab.output.renderOutput(dataTable, element);\n",
              "          const docLink = document.createElement('div');\n",
              "          docLink.innerHTML = docLinkHtml;\n",
              "          element.appendChild(docLink);\n",
              "        }\n",
              "      </script>\n",
              "    </div>\n",
              "  </div>\n",
              "  "
            ]
          },
          "metadata": {},
          "execution_count": 284
        }
      ]
    },
    {
      "cell_type": "code",
      "execution_count": 285,
      "metadata": {
        "id": "1soMZZQST5af"
      },
      "outputs": [],
      "source": [
        "# sklearn.preprocessing을 임포트\n",
        "from sklearn import preprocessing"
      ]
    },
    {
      "cell_type": "code",
      "execution_count": 286,
      "metadata": {
        "colab": {
          "base_uri": "https://localhost:8080/"
        },
        "id": "XT-2Soh8UEmX",
        "outputId": "0cab087e-d78e-4129-f2d2-a260f8f58782"
      },
      "outputs": [
        {
          "output_type": "stream",
          "name": "stderr",
          "text": [
            "/usr/local/lib/python3.7/dist-packages/sklearn/preprocessing/_data.py:236: UserWarning: Numerical issues were encountered when centering the data and might not be solved. Dataset may contain too large values. You may need to prescale your features.\n",
            "  \"Numerical issues were encountered \"\n"
          ]
        },
        {
          "output_type": "execute_result",
          "data": {
            "text/plain": [
              "array([[-6.22192762e-01, -7.17051309e-01, -1.15390682e+00,\n",
              "        -1.16694376e+00,  2.09604187e+00],\n",
              "       [-6.30559135e-01, -5.06471826e-01, -9.66682555e-01,\n",
              "        -1.12336213e+00,  2.09604187e+00],\n",
              "       [-6.43314848e-01, -5.52315144e-01, -1.11707039e+00,\n",
              "        -1.08785897e+00,  2.09604187e+00],\n",
              "       [-6.59394778e-01, -6.42955386e-01, -1.38603580e+00,\n",
              "        -1.10073271e+00,  2.09604187e+00],\n",
              "       [-6.73696638e-01, -1.03470223e+00, -1.43199866e+00,\n",
              "        -1.16309958e+00,  2.09604187e+00],\n",
              "       [-6.95308338e-01, -1.00489418e+00, -1.31811658e+00,\n",
              "        -1.13242870e+00,  2.09604187e+00],\n",
              "       [-7.16980166e-01, -9.25764254e-01, -1.46063451e+00,\n",
              "        -1.13115585e+00,  1.76677859e+00],\n",
              "       [-7.44673378e-01, -8.60350563e-01, -1.19120617e+00,\n",
              "        -1.09486677e+00,  1.76677859e+00],\n",
              "       [-7.68861990e-01, -6.02739965e-01, -1.08916201e+00,\n",
              "        -1.08083693e+00,  1.76677859e+00],\n",
              "       [-7.90413562e-01, -8.40723628e-01, -1.19147071e+00,\n",
              "        -1.12041777e+00,  1.43751531e+00],\n",
              "       [-8.07653101e-01, -7.81786259e-01, -1.25059416e+00,\n",
              "        -1.11101803e+00,  1.43751531e+00],\n",
              "       [-8.42896665e-01, -6.35008457e-01, -1.28835645e+00,\n",
              "        -1.10837836e+00,  1.43751531e+00],\n",
              "       [-8.64903491e-01, -6.99771688e-01, -1.22215670e+00,\n",
              "        -1.07346180e+00,  1.43751531e+00],\n",
              "       [-8.78612662e-01, -5.17077159e-01, -1.00920647e+00,\n",
              "        -1.06831913e+00,  1.43751531e+00],\n",
              "       [-8.85570323e-01, -5.78163874e-01, -8.82560599e-01,\n",
              "        -1.03775646e+00,  1.43751531e+00],\n",
              "       [-8.86498012e-01, -6.93832701e-01, -8.24032351e-01,\n",
              "        -1.02030957e+00,  1.43751531e+00],\n",
              "       [-8.81180984e-01, -5.89052016e-01, -7.31445292e-01,\n",
              "        -9.84111611e-01,  1.10825202e+00],\n",
              "       [-8.85828015e-01, -9.78564670e-01, -1.12037707e+00,\n",
              "        -9.99106769e-01,  1.10825202e+00],\n",
              "       [-8.98832829e-01, -8.35152293e-01, -8.87256086e-01,\n",
              "        -9.35572404e-01,  1.10825202e+00],\n",
              "       [-9.10411753e-01, -8.00281959e-01, -1.13572007e+00,\n",
              "        -9.45965934e-01,  1.10825202e+00],\n",
              "       [-9.09363809e-01, -6.00618898e-01, -1.01568756e+00,\n",
              "        -8.94251717e-01,  1.10825202e+00],\n",
              "       [-8.97166426e-01, -5.06924320e-01, -1.03189030e+00,\n",
              "        -8.52042597e-01,  1.10825202e+00],\n",
              "       [-8.93215162e-01, -4.65125169e-01, -1.13360380e+00,\n",
              "        -8.12125748e-01,  1.10825202e+00],\n",
              "       [-8.91248119e-01, -5.59950983e-01, -1.24649387e+00,\n",
              "        -7.78894929e-01,  1.10825202e+00],\n",
              "       [-8.71337181e-01, -7.58454528e-01, -1.14590465e+00,\n",
              "        -7.99599409e-01,  1.10825202e+00],\n",
              "       [-8.62395297e-01, -6.48611563e-01, -1.05490480e+00,\n",
              "        -7.41441204e-01,  1.10825202e+00],\n",
              "       [-8.49802788e-01, -6.32717705e-01, -9.71444176e-01,\n",
              "        -7.72516434e-01,  1.10825202e+00],\n",
              "       [-8.49192919e-01, -7.00082777e-01, -8.53990878e-01,\n",
              "        -7.96558234e-01,  1.10825202e+00],\n",
              "       [-8.51331756e-01, -6.06275076e-01, -9.38708037e-01,\n",
              "        -7.60092606e-01,  1.10825202e+00],\n",
              "       [-8.52877903e-01, -5.85771433e-01, -1.00133657e+00,\n",
              "        -7.12948695e-01,  1.10825202e+00],\n",
              "       [-8.52792006e-01, -3.76747398e-01, -1.00623046e+00,\n",
              "        -7.23886105e-01,  1.10825202e+00],\n",
              "       [-8.48832151e-01, -3.98184310e-01, -7.82169774e-01,\n",
              "        -6.63945339e-01,  7.78988741e-01],\n",
              "       [-8.35217467e-01, -5.35205207e-01, -7.62197423e-01,\n",
              "        -6.88684787e-01,  7.78988741e-01],\n",
              "       [-8.23320725e-01, -6.92616623e-01, -8.58223429e-01,\n",
              "        -6.49573792e-01,  4.49725459e-01],\n",
              "       [-8.17574212e-01, -6.46377373e-01, -9.48297411e-01,\n",
              "        -6.03759683e-01,  4.49725459e-01],\n",
              "       [-8.15074607e-01, -8.30740475e-01, -9.62251603e-01,\n",
              "        -6.19586324e-01,  4.49725459e-01],\n",
              "       [-8.25176101e-01, -7.35518729e-01, -6.40776108e-01,\n",
              "        -6.48292398e-01,  4.49725459e-01],\n",
              "       [-8.14928582e-01, -6.32180368e-01, -4.22667451e-01,\n",
              "        -5.54810430e-01,  4.49725459e-01],\n",
              "       [-7.99544419e-01, -4.75985030e-01, -2.51182991e-01,\n",
              "        -5.72650283e-01,  1.20462176e-01],\n",
              "       [-7.77434516e-01, -2.32373471e-01,  3.56368772e-03,\n",
              "        -5.61106346e-01,  1.20462176e-01],\n",
              "       [-7.58726137e-01, -2.67356928e-01,  1.51570715e-01,\n",
              "        -5.24486952e-01,  1.20462176e-01],\n",
              "       [-7.39450837e-01, -3.82177328e-01,  3.55791313e-01,\n",
              "        -5.48164266e-01, -2.08801106e-01],\n",
              "       [-6.22751092e-01, -5.06726354e-01,  2.41975364e-01,\n",
              "        -5.07897170e-01, -2.08801106e-01],\n",
              "       [-6.08277438e-01, -7.57492978e-01, -9.00169883e-03,\n",
              "        -6.08065168e-01, -2.08801106e-01],\n",
              "       [-5.91750844e-01, -6.97198127e-01, -6.60750073e-02,\n",
              "        -6.52586492e-01, -2.08801106e-01],\n",
              "       [-5.74184895e-01, -5.08677735e-01, -3.20161963e-02,\n",
              "        -5.29119903e-01, -2.08801106e-01],\n",
              "       [-5.62004692e-01, -6.14731061e-01, -6.02729924e-04,\n",
              "        -5.13481201e-01, -2.08801106e-01],\n",
              "       [-5.52435760e-01, -7.01440260e-01, -4.04812988e-02,\n",
              "        -5.42315414e-01, -2.08801106e-01],\n",
              "       [-5.51568200e-01, -8.40723628e-01, -3.75052862e-02,\n",
              "        -6.54354816e-01, -2.08801106e-01],\n",
              "       [-5.54179470e-01, -8.27714420e-01, -2.43709893e-01,\n",
              "        -6.70301053e-01, -2.08801106e-01],\n",
              "       [-5.54875237e-01, -6.03758077e-01, -6.02729924e-04,\n",
              "        -5.81486207e-01, -2.08801106e-01],\n",
              "       [-5.53200244e-01, -6.08565828e-01,  7.47234558e-02,\n",
              "        -6.08392635e-01, -2.08801106e-01],\n",
              "       [-5.48939750e-01, -6.38967781e-01,  6.59938188e-02,\n",
              "        -5.59215578e-01, -2.08801106e-01],\n",
              "       [-5.43382210e-01, -6.75874338e-01, -8.84943022e-02,\n",
              "        -5.89225827e-01, -5.38064388e-01],\n",
              "       [-5.35548398e-01, -5.46234753e-01,  1.17511904e-01,\n",
              "        -4.98258239e-01, -5.38064388e-01],\n",
              "       [-5.26580745e-01, -4.94028236e-01, -1.63886622e-01,\n",
              "        -4.83710145e-01, -5.38064388e-01],\n",
              "       [-5.31640082e-01, -4.68631999e-01, -4.80205308e-02,\n",
              "        -4.55582122e-01, -5.38064388e-01],\n",
              "       [-5.15680409e-01, -5.68859462e-01, -4.21873848e-01,\n",
              "        -4.90567027e-01, -5.38064388e-01],\n",
              "       [-5.04453663e-01, -6.38741534e-01, -6.10817581e-01,\n",
              "        -4.52256192e-01, -5.38064388e-01],\n",
              "       [-5.03156618e-01, -5.17190282e-01, -3.77167525e-01,\n",
              "        -4.35330401e-01, -5.38064388e-01],\n",
              "       [-5.03938281e-01, -4.00927556e-01, -4.78418087e-01,\n",
              "        -3.69361387e-01, -5.38064388e-01],\n",
              "       [-5.02366365e-01, -3.32855462e-01, -5.04408597e-01,\n",
              "        -3.09377907e-01, -5.38064388e-01],\n",
              "       [-4.92110256e-01, -1.38876859e-01, -4.57585999e-01,\n",
              "        -2.84803616e-01, -5.38064388e-01],\n",
              "       [-4.85616438e-01, -1.10189693e-02, -3.98330281e-01,\n",
              "        -2.46114058e-01, -5.38064388e-01],\n",
              "       [-4.76537119e-01,  3.90399939e-01, -2.40932281e-01,\n",
              "        -2.03141797e-01, -5.38064388e-01],\n",
              "       [-4.55045675e-01,  5.15995357e-01, -1.28505138e-01,\n",
              "        -2.19686018e-01, -5.38064388e-01],\n",
              "       [-4.43638545e-01,  5.46878086e-01, -2.51315259e-01,\n",
              "        -1.60542563e-01, -5.38064388e-01],\n",
              "       [-4.26003879e-01,  4.35112021e-01, -2.02640919e-01,\n",
              "        -1.37608457e-01, -5.38064388e-01],\n",
              "       [-4.22379023e-01,  5.23574635e-01, -2.35773859e-01,\n",
              "        -1.18444497e-01, -5.38064388e-01],\n",
              "       [-4.13694831e-01,  8.88284952e-01,  3.78870331e-02,\n",
              "        -5.24640927e-02, -5.38064388e-01],\n",
              "       [-4.01669243e-01,  7.55195098e-01,  5.48570796e-01,\n",
              "        -1.08045480e-02, -2.08801106e-01],\n",
              "       [-8.39617911e-02,  7.30081671e-01,  7.27131553e-01,\n",
              "        -2.42707842e-03, -2.08801106e-01],\n",
              "       [-3.99223690e-02,  1.00997761e+00,  1.48866011e+00,\n",
              "         1.42253701e-01, -2.08801106e-01],\n",
              "       [ 6.04973684e-03,  6.16590472e-01,  1.11493906e+00,\n",
              "         1.02823782e-01, -2.08801106e-01],\n",
              "       [ 2.91045074e-02,  6.68881831e-01,  1.20772452e+00,\n",
              "         4.31478370e-02, -2.08801106e-01],\n",
              "       [ 3.95925383e-02,  8.65518838e-01,  1.23986546e+00,\n",
              "         4.39536915e-02, -2.08801106e-01],\n",
              "       [ 4.38702118e-02,  6.04288286e-01,  1.26440103e+00,\n",
              "         1.50978571e-01, -2.08801106e-01],\n",
              "       [ 4.62066118e-02,  3.30303054e-01,  8.58076107e-01,\n",
              "         1.70393115e-01, -2.08801106e-01],\n",
              "       [ 4.98228780e-02,  2.42999956e-01,  5.75685578e-01,\n",
              "         2.16378076e-01, -2.08801106e-01],\n",
              "       [ 6.96822780e-02,  3.21111766e-01,  8.49809406e-01,\n",
              "         3.41029243e-01, -2.08801106e-01],\n",
              "       [ 1.24123834e-01,  3.78210876e-01,  8.84860221e-01,\n",
              "         3.23035623e-01, -2.08801106e-01],\n",
              "       [ 1.46929503e-01, -5.08055556e-01, -2.63219309e-01,\n",
              "         1.12189349e-01, -2.08801106e-01],\n",
              "       [ 1.51688200e-01, -3.18092839e-01,  4.82038768e-02,\n",
              "         1.19205693e-01,  1.20462176e-01],\n",
              "       [ 1.46603094e-01, -4.75956749e-01, -8.47908199e-02,\n",
              "        -7.87725366e-02,  1.20462176e-01],\n",
              "       [ 4.89779024e-01, -1.26875416e-02,  1.87745801e-01,\n",
              "         1.05309687e-01,  1.20462176e-01],\n",
              "       [ 4.73699094e-01, -3.92998561e-02,  2.82912071e-01,\n",
              "         1.76723202e-01,  1.20462176e-01],\n",
              "       [ 4.57902625e-01, -1.94194273e-01,  2.70082150e-01,\n",
              "         2.32759988e-01,  1.20462176e-01],\n",
              "       [ 4.40164882e-01, -1.62509333e-02,  4.38259929e-01,\n",
              "         3.36999971e-01,  1.20462176e-01],\n",
              "       [ 4.28852240e-01, -4.73977087e-01,  5.28993634e-02,\n",
              "         1.54119410e-01,  1.20462176e-01],\n",
              "       [ 4.23741365e-01, -2.22616565e-01,  1.36159970e-02,\n",
              "         3.11614131e-01,  1.20462176e-01],\n",
              "       [ 4.26352635e-01, -5.22591931e-01, -3.85500360e-01,\n",
              "         3.59788852e-01, -2.08801106e-01],\n",
              "       [ 4.31927354e-01, -6.83114245e-01, -5.15320644e-01,\n",
              "         2.99267187e-01, -2.08801106e-01],\n",
              "       [ 4.42174874e-01, -4.13710517e-01, -4.41184863e-01,\n",
              "         3.09646479e-01, -2.08801106e-01],\n",
              "       [ 4.65203875e-01, -3.55932665e-01, -1.98077700e-01,\n",
              "         3.93088013e-01, -5.38064388e-01],\n",
              "       [ 4.94082466e-01, -3.43262828e-01, -3.44762054e-01,\n",
              "         4.99332665e-01, -5.38064388e-01],\n",
              "       [ 5.51281318e-01, -3.29932184e-02, -1.23280583e-01,\n",
              "         5.86789234e-01, -5.38064388e-01],\n",
              "       [ 7.63447053e-01, -2.55450674e-01, -3.04156016e-01,\n",
              "         6.37572304e-01, -5.38064388e-01],\n",
              "       [ 7.90710779e-01, -6.28758381e-01, -5.14130238e-01,\n",
              "         4.71398275e-01, -5.38064388e-01],\n",
              "       [ 8.38409416e-01, -1.28592135e+00, -7.89642872e-01,\n",
              "         2.24439469e-01, -1.19659095e+00],\n",
              "       [ 8.56568054e-01, -7.40326479e-01, -2.26779688e-01,\n",
              "         5.63140395e-01, -1.19659095e+00],\n",
              "       [ 8.61481366e-01, -5.08310084e-01,  1.66715312e-01,\n",
              "         7.34084057e-01, -1.52585423e+00],\n",
              "       [ 8.86408693e-01, -2.85654661e-01,  3.27353859e-01,\n",
              "         8.96077895e-01, -1.52585423e+00],\n",
              "       [ 9.43667672e-01,  1.13218967e-01,  8.38765092e-01,\n",
              "         1.09156453e+00, -1.52585423e+00],\n",
              "       [ 9.78335725e-01,  3.30416178e-01,  1.05660921e+00,\n",
              "         1.38491549e+00, -1.52585423e+00],\n",
              "       [ 1.00431959e+00,  3.35280490e-01,  1.05601401e+00,\n",
              "         1.21179915e+00, -1.52585423e+00],\n",
              "       [ 1.01881042e+00,  1.63502383e-01,  6.88972458e-01,\n",
              "         1.13892485e+00, -1.52585423e+00],\n",
              "       [ 1.04573915e+00,  1.08034045e+00,  1.85140298e+00,\n",
              "         1.50544626e+00, -1.52585423e+00],\n",
              "       [ 1.08632551e+00,  1.87822911e+00,  1.85140298e+00,\n",
              "         1.70179570e+00, -1.52585423e+00],\n",
              "       [ 1.13652375e+00,  2.16878695e+00,  1.58891867e+00,\n",
              "         1.75374057e+00, -1.52585423e+00],\n",
              "       [ 1.21002586e+00,  2.27269092e+00,  1.49110706e+00,\n",
              "         1.78837807e+00, -1.52585423e+00],\n",
              "       [ 1.26223409e+00,  2.40976838e+00,  1.77038930e+00,\n",
              "         1.80390572e+00, -1.52585423e+00],\n",
              "       [ 1.31572219e+00,  2.65422837e+00,  1.95080180e+00,\n",
              "         2.00774135e+00, -1.52585423e+00],\n",
              "       [ 1.36690825e+00,  2.81277102e+00,  1.93975749e+00,\n",
              "         1.94680394e+00, -1.52585423e+00],\n",
              "       [ 1.46044156e+00,  3.07510453e+00,  2.25838924e+00,\n",
              "         2.16187881e+00, -1.52585423e+00],\n",
              "       [ 2.43584561e+00,  2.80824608e+00,  2.26619301e+00,\n",
              "         2.20991116e+00, -1.52585423e+00],\n",
              "       [ 2.52808187e+00,  2.79962041e+00,  2.31374307e+00,\n",
              "         2.37693660e+00, -1.19659095e+00],\n",
              "       [ 2.61270765e+00,  2.43069624e+00,  2.08187862e+00,\n",
              "         2.14609773e+00, -1.19659095e+00],\n",
              "       [ 2.68924193e+00,  2.15314762e+00,  2.00952845e+00,\n",
              "         2.44503558e+00, -1.19659095e+00],\n",
              "       [ 2.73708659e+00,  1.78077318e+00,  1.83295170e+00,\n",
              "         2.45622642e+00, -8.67327670e-01],\n",
              "       [ 2.75527100e+00,  2.17285939e+00,  2.28497495e+00,\n",
              "         2.48677485e+00, -8.67327670e-01],\n",
              "       [ 2.75491882e+00,  1.28396284e+00,  1.21949630e+00,\n",
              "         2.08666953e+00, -5.38064388e-01],\n",
              "       [ 2.74815872e+00,  1.38532154e+00,  1.27372587e+00,\n",
              "         1.94757278e+00, -5.38064388e-01],\n",
              "       [ 2.73905364e+00,  1.55067988e+00,  1.69340978e+00,\n",
              "         2.08115668e+00, -5.38064388e-01]])"
            ]
          },
          "metadata": {},
          "execution_count": 286
        }
      ],
      "source": [
        "# preprocessing.scale() 메소드를 이용하여 dataset를 표준화한다.\n",
        "dataset_scaled = dataset.drop(columns=['날짜','국고채3년평균','국고채5년평균','국고채10년평균','회사채3년평균'],axis=1)\n",
        "dataset_scaled = preprocessing.scale(dataset_scaled)\n",
        "dataset_scaled"
      ]
    },
    {
      "cell_type": "code",
      "execution_count": 287,
      "metadata": {
        "id": "QUBz5GhSWV_m"
      },
      "outputs": [],
      "source": [
        "c=['평균매매가격', '코스피지수', '코스닥지수', '나스닥종가', '기준금리']"
      ]
    },
    {
      "cell_type": "code",
      "execution_count": 288,
      "metadata": {
        "colab": {
          "base_uri": "https://localhost:8080/",
          "height": 424
        },
        "id": "agfywmMlVq9L",
        "outputId": "fe480770-83b4-4bb8-e459-0b48efa2e937"
      },
      "outputs": [
        {
          "output_type": "execute_result",
          "data": {
            "text/plain": [
              "       평균매매가격     코스피지수     코스닥지수     나스닥종가      기준금리\n",
              "0   -0.622193 -0.717051 -1.153907 -1.166944  2.096042\n",
              "1   -0.630559 -0.506472 -0.966683 -1.123362  2.096042\n",
              "2   -0.643315 -0.552315 -1.117070 -1.087859  2.096042\n",
              "3   -0.659395 -0.642955 -1.386036 -1.100733  2.096042\n",
              "4   -0.673697 -1.034702 -1.431999 -1.163100  2.096042\n",
              "..        ...       ...       ...       ...       ...\n",
              "118  2.737087  1.780773  1.832952  2.456226 -0.867328\n",
              "119  2.755271  2.172859  2.284975  2.486775 -0.867328\n",
              "120  2.754919  1.283963  1.219496  2.086670 -0.538064\n",
              "121  2.748159  1.385322  1.273726  1.947573 -0.538064\n",
              "122  2.739054  1.550680  1.693410  2.081157 -0.538064\n",
              "\n",
              "[123 rows x 5 columns]"
            ],
            "text/html": [
              "\n",
              "  <div id=\"df-45c67bd9-4259-4935-8e12-6807c0d35661\">\n",
              "    <div class=\"colab-df-container\">\n",
              "      <div>\n",
              "<style scoped>\n",
              "    .dataframe tbody tr th:only-of-type {\n",
              "        vertical-align: middle;\n",
              "    }\n",
              "\n",
              "    .dataframe tbody tr th {\n",
              "        vertical-align: top;\n",
              "    }\n",
              "\n",
              "    .dataframe thead th {\n",
              "        text-align: right;\n",
              "    }\n",
              "</style>\n",
              "<table border=\"1\" class=\"dataframe\">\n",
              "  <thead>\n",
              "    <tr style=\"text-align: right;\">\n",
              "      <th></th>\n",
              "      <th>평균매매가격</th>\n",
              "      <th>코스피지수</th>\n",
              "      <th>코스닥지수</th>\n",
              "      <th>나스닥종가</th>\n",
              "      <th>기준금리</th>\n",
              "    </tr>\n",
              "  </thead>\n",
              "  <tbody>\n",
              "    <tr>\n",
              "      <th>0</th>\n",
              "      <td>-0.622193</td>\n",
              "      <td>-0.717051</td>\n",
              "      <td>-1.153907</td>\n",
              "      <td>-1.166944</td>\n",
              "      <td>2.096042</td>\n",
              "    </tr>\n",
              "    <tr>\n",
              "      <th>1</th>\n",
              "      <td>-0.630559</td>\n",
              "      <td>-0.506472</td>\n",
              "      <td>-0.966683</td>\n",
              "      <td>-1.123362</td>\n",
              "      <td>2.096042</td>\n",
              "    </tr>\n",
              "    <tr>\n",
              "      <th>2</th>\n",
              "      <td>-0.643315</td>\n",
              "      <td>-0.552315</td>\n",
              "      <td>-1.117070</td>\n",
              "      <td>-1.087859</td>\n",
              "      <td>2.096042</td>\n",
              "    </tr>\n",
              "    <tr>\n",
              "      <th>3</th>\n",
              "      <td>-0.659395</td>\n",
              "      <td>-0.642955</td>\n",
              "      <td>-1.386036</td>\n",
              "      <td>-1.100733</td>\n",
              "      <td>2.096042</td>\n",
              "    </tr>\n",
              "    <tr>\n",
              "      <th>4</th>\n",
              "      <td>-0.673697</td>\n",
              "      <td>-1.034702</td>\n",
              "      <td>-1.431999</td>\n",
              "      <td>-1.163100</td>\n",
              "      <td>2.096042</td>\n",
              "    </tr>\n",
              "    <tr>\n",
              "      <th>...</th>\n",
              "      <td>...</td>\n",
              "      <td>...</td>\n",
              "      <td>...</td>\n",
              "      <td>...</td>\n",
              "      <td>...</td>\n",
              "    </tr>\n",
              "    <tr>\n",
              "      <th>118</th>\n",
              "      <td>2.737087</td>\n",
              "      <td>1.780773</td>\n",
              "      <td>1.832952</td>\n",
              "      <td>2.456226</td>\n",
              "      <td>-0.867328</td>\n",
              "    </tr>\n",
              "    <tr>\n",
              "      <th>119</th>\n",
              "      <td>2.755271</td>\n",
              "      <td>2.172859</td>\n",
              "      <td>2.284975</td>\n",
              "      <td>2.486775</td>\n",
              "      <td>-0.867328</td>\n",
              "    </tr>\n",
              "    <tr>\n",
              "      <th>120</th>\n",
              "      <td>2.754919</td>\n",
              "      <td>1.283963</td>\n",
              "      <td>1.219496</td>\n",
              "      <td>2.086670</td>\n",
              "      <td>-0.538064</td>\n",
              "    </tr>\n",
              "    <tr>\n",
              "      <th>121</th>\n",
              "      <td>2.748159</td>\n",
              "      <td>1.385322</td>\n",
              "      <td>1.273726</td>\n",
              "      <td>1.947573</td>\n",
              "      <td>-0.538064</td>\n",
              "    </tr>\n",
              "    <tr>\n",
              "      <th>122</th>\n",
              "      <td>2.739054</td>\n",
              "      <td>1.550680</td>\n",
              "      <td>1.693410</td>\n",
              "      <td>2.081157</td>\n",
              "      <td>-0.538064</td>\n",
              "    </tr>\n",
              "  </tbody>\n",
              "</table>\n",
              "<p>123 rows × 5 columns</p>\n",
              "</div>\n",
              "      <button class=\"colab-df-convert\" onclick=\"convertToInteractive('df-45c67bd9-4259-4935-8e12-6807c0d35661')\"\n",
              "              title=\"Convert this dataframe to an interactive table.\"\n",
              "              style=\"display:none;\">\n",
              "        \n",
              "  <svg xmlns=\"http://www.w3.org/2000/svg\" height=\"24px\"viewBox=\"0 0 24 24\"\n",
              "       width=\"24px\">\n",
              "    <path d=\"M0 0h24v24H0V0z\" fill=\"none\"/>\n",
              "    <path d=\"M18.56 5.44l.94 2.06.94-2.06 2.06-.94-2.06-.94-.94-2.06-.94 2.06-2.06.94zm-11 1L8.5 8.5l.94-2.06 2.06-.94-2.06-.94L8.5 2.5l-.94 2.06-2.06.94zm10 10l.94 2.06.94-2.06 2.06-.94-2.06-.94-.94-2.06-.94 2.06-2.06.94z\"/><path d=\"M17.41 7.96l-1.37-1.37c-.4-.4-.92-.59-1.43-.59-.52 0-1.04.2-1.43.59L10.3 9.45l-7.72 7.72c-.78.78-.78 2.05 0 2.83L4 21.41c.39.39.9.59 1.41.59.51 0 1.02-.2 1.41-.59l7.78-7.78 2.81-2.81c.8-.78.8-2.07 0-2.86zM5.41 20L4 18.59l7.72-7.72 1.47 1.35L5.41 20z\"/>\n",
              "  </svg>\n",
              "      </button>\n",
              "      \n",
              "  <style>\n",
              "    .colab-df-container {\n",
              "      display:flex;\n",
              "      flex-wrap:wrap;\n",
              "      gap: 12px;\n",
              "    }\n",
              "\n",
              "    .colab-df-convert {\n",
              "      background-color: #E8F0FE;\n",
              "      border: none;\n",
              "      border-radius: 50%;\n",
              "      cursor: pointer;\n",
              "      display: none;\n",
              "      fill: #1967D2;\n",
              "      height: 32px;\n",
              "      padding: 0 0 0 0;\n",
              "      width: 32px;\n",
              "    }\n",
              "\n",
              "    .colab-df-convert:hover {\n",
              "      background-color: #E2EBFA;\n",
              "      box-shadow: 0px 1px 2px rgba(60, 64, 67, 0.3), 0px 1px 3px 1px rgba(60, 64, 67, 0.15);\n",
              "      fill: #174EA6;\n",
              "    }\n",
              "\n",
              "    [theme=dark] .colab-df-convert {\n",
              "      background-color: #3B4455;\n",
              "      fill: #D2E3FC;\n",
              "    }\n",
              "\n",
              "    [theme=dark] .colab-df-convert:hover {\n",
              "      background-color: #434B5C;\n",
              "      box-shadow: 0px 1px 3px 1px rgba(0, 0, 0, 0.15);\n",
              "      filter: drop-shadow(0px 1px 2px rgba(0, 0, 0, 0.3));\n",
              "      fill: #FFFFFF;\n",
              "    }\n",
              "  </style>\n",
              "\n",
              "      <script>\n",
              "        const buttonEl =\n",
              "          document.querySelector('#df-45c67bd9-4259-4935-8e12-6807c0d35661 button.colab-df-convert');\n",
              "        buttonEl.style.display =\n",
              "          google.colab.kernel.accessAllowed ? 'block' : 'none';\n",
              "\n",
              "        async function convertToInteractive(key) {\n",
              "          const element = document.querySelector('#df-45c67bd9-4259-4935-8e12-6807c0d35661');\n",
              "          const dataTable =\n",
              "            await google.colab.kernel.invokeFunction('convertToInteractive',\n",
              "                                                     [key], {});\n",
              "          if (!dataTable) return;\n",
              "\n",
              "          const docLinkHtml = 'Like what you see? Visit the ' +\n",
              "            '<a target=\"_blank\" href=https://colab.research.google.com/notebooks/data_table.ipynb>data table notebook</a>'\n",
              "            + ' to learn more about interactive tables.';\n",
              "          element.innerHTML = '';\n",
              "          dataTable['output_type'] = 'display_data';\n",
              "          await google.colab.output.renderOutput(dataTable, element);\n",
              "          const docLink = document.createElement('div');\n",
              "          docLink.innerHTML = docLinkHtml;\n",
              "          element.appendChild(docLink);\n",
              "        }\n",
              "      </script>\n",
              "    </div>\n",
              "  </div>\n",
              "  "
            ]
          },
          "metadata": {},
          "execution_count": 288
        }
      ],
      "source": [
        "# preprocessing.scale() 메소드는 판다스의 DataFrame이 아닌 다른 객체를 반환하므로 결과를 다시 DataFrame객체로 변환하고,\n",
        "# df에 담는다.\n",
        "\n",
        "dataset_scaled = pd.DataFrame(dataset_scaled,columns=c)\n",
        "df = dataset_scaled\n",
        "df"
      ]
    },
    {
      "cell_type": "code",
      "source": [
        "# 데이터 표준화를 한 결과, 데이터의 평균은 0, 분산은 1로 변경된 것을 확인할 수 있다.\n",
        "df.describe().round()\n"
      ],
      "metadata": {
        "colab": {
          "base_uri": "https://localhost:8080/",
          "height": 300
        },
        "id": "ObE8hon5JyIr",
        "outputId": "e15bbfe5-beaf-4d1c-a314-72d673e9910f"
      },
      "execution_count": 289,
      "outputs": [
        {
          "output_type": "execute_result",
          "data": {
            "text/plain": [
              "       평균매매가격  코스피지수  코스닥지수  나스닥종가   기준금리\n",
              "count   123.0  123.0  123.0  123.0  123.0\n",
              "mean      0.0    0.0    0.0   -0.0   -0.0\n",
              "std       1.0    1.0    1.0    1.0    1.0\n",
              "min      -1.0   -1.0   -1.0   -1.0   -2.0\n",
              "25%      -1.0   -1.0   -1.0   -1.0   -1.0\n",
              "50%      -1.0   -0.0   -0.0   -0.0   -0.0\n",
              "75%       0.0    0.0    1.0    0.0    1.0\n",
              "max       3.0    3.0    2.0    2.0    2.0"
            ],
            "text/html": [
              "\n",
              "  <div id=\"df-657d8656-c064-483e-a3f0-753b2e013f99\">\n",
              "    <div class=\"colab-df-container\">\n",
              "      <div>\n",
              "<style scoped>\n",
              "    .dataframe tbody tr th:only-of-type {\n",
              "        vertical-align: middle;\n",
              "    }\n",
              "\n",
              "    .dataframe tbody tr th {\n",
              "        vertical-align: top;\n",
              "    }\n",
              "\n",
              "    .dataframe thead th {\n",
              "        text-align: right;\n",
              "    }\n",
              "</style>\n",
              "<table border=\"1\" class=\"dataframe\">\n",
              "  <thead>\n",
              "    <tr style=\"text-align: right;\">\n",
              "      <th></th>\n",
              "      <th>평균매매가격</th>\n",
              "      <th>코스피지수</th>\n",
              "      <th>코스닥지수</th>\n",
              "      <th>나스닥종가</th>\n",
              "      <th>기준금리</th>\n",
              "    </tr>\n",
              "  </thead>\n",
              "  <tbody>\n",
              "    <tr>\n",
              "      <th>count</th>\n",
              "      <td>123.0</td>\n",
              "      <td>123.0</td>\n",
              "      <td>123.0</td>\n",
              "      <td>123.0</td>\n",
              "      <td>123.0</td>\n",
              "    </tr>\n",
              "    <tr>\n",
              "      <th>mean</th>\n",
              "      <td>0.0</td>\n",
              "      <td>0.0</td>\n",
              "      <td>0.0</td>\n",
              "      <td>-0.0</td>\n",
              "      <td>-0.0</td>\n",
              "    </tr>\n",
              "    <tr>\n",
              "      <th>std</th>\n",
              "      <td>1.0</td>\n",
              "      <td>1.0</td>\n",
              "      <td>1.0</td>\n",
              "      <td>1.0</td>\n",
              "      <td>1.0</td>\n",
              "    </tr>\n",
              "    <tr>\n",
              "      <th>min</th>\n",
              "      <td>-1.0</td>\n",
              "      <td>-1.0</td>\n",
              "      <td>-1.0</td>\n",
              "      <td>-1.0</td>\n",
              "      <td>-2.0</td>\n",
              "    </tr>\n",
              "    <tr>\n",
              "      <th>25%</th>\n",
              "      <td>-1.0</td>\n",
              "      <td>-1.0</td>\n",
              "      <td>-1.0</td>\n",
              "      <td>-1.0</td>\n",
              "      <td>-1.0</td>\n",
              "    </tr>\n",
              "    <tr>\n",
              "      <th>50%</th>\n",
              "      <td>-1.0</td>\n",
              "      <td>-0.0</td>\n",
              "      <td>-0.0</td>\n",
              "      <td>-0.0</td>\n",
              "      <td>-0.0</td>\n",
              "    </tr>\n",
              "    <tr>\n",
              "      <th>75%</th>\n",
              "      <td>0.0</td>\n",
              "      <td>0.0</td>\n",
              "      <td>1.0</td>\n",
              "      <td>0.0</td>\n",
              "      <td>1.0</td>\n",
              "    </tr>\n",
              "    <tr>\n",
              "      <th>max</th>\n",
              "      <td>3.0</td>\n",
              "      <td>3.0</td>\n",
              "      <td>2.0</td>\n",
              "      <td>2.0</td>\n",
              "      <td>2.0</td>\n",
              "    </tr>\n",
              "  </tbody>\n",
              "</table>\n",
              "</div>\n",
              "      <button class=\"colab-df-convert\" onclick=\"convertToInteractive('df-657d8656-c064-483e-a3f0-753b2e013f99')\"\n",
              "              title=\"Convert this dataframe to an interactive table.\"\n",
              "              style=\"display:none;\">\n",
              "        \n",
              "  <svg xmlns=\"http://www.w3.org/2000/svg\" height=\"24px\"viewBox=\"0 0 24 24\"\n",
              "       width=\"24px\">\n",
              "    <path d=\"M0 0h24v24H0V0z\" fill=\"none\"/>\n",
              "    <path d=\"M18.56 5.44l.94 2.06.94-2.06 2.06-.94-2.06-.94-.94-2.06-.94 2.06-2.06.94zm-11 1L8.5 8.5l.94-2.06 2.06-.94-2.06-.94L8.5 2.5l-.94 2.06-2.06.94zm10 10l.94 2.06.94-2.06 2.06-.94-2.06-.94-.94-2.06-.94 2.06-2.06.94z\"/><path d=\"M17.41 7.96l-1.37-1.37c-.4-.4-.92-.59-1.43-.59-.52 0-1.04.2-1.43.59L10.3 9.45l-7.72 7.72c-.78.78-.78 2.05 0 2.83L4 21.41c.39.39.9.59 1.41.59.51 0 1.02-.2 1.41-.59l7.78-7.78 2.81-2.81c.8-.78.8-2.07 0-2.86zM5.41 20L4 18.59l7.72-7.72 1.47 1.35L5.41 20z\"/>\n",
              "  </svg>\n",
              "      </button>\n",
              "      \n",
              "  <style>\n",
              "    .colab-df-container {\n",
              "      display:flex;\n",
              "      flex-wrap:wrap;\n",
              "      gap: 12px;\n",
              "    }\n",
              "\n",
              "    .colab-df-convert {\n",
              "      background-color: #E8F0FE;\n",
              "      border: none;\n",
              "      border-radius: 50%;\n",
              "      cursor: pointer;\n",
              "      display: none;\n",
              "      fill: #1967D2;\n",
              "      height: 32px;\n",
              "      padding: 0 0 0 0;\n",
              "      width: 32px;\n",
              "    }\n",
              "\n",
              "    .colab-df-convert:hover {\n",
              "      background-color: #E2EBFA;\n",
              "      box-shadow: 0px 1px 2px rgba(60, 64, 67, 0.3), 0px 1px 3px 1px rgba(60, 64, 67, 0.15);\n",
              "      fill: #174EA6;\n",
              "    }\n",
              "\n",
              "    [theme=dark] .colab-df-convert {\n",
              "      background-color: #3B4455;\n",
              "      fill: #D2E3FC;\n",
              "    }\n",
              "\n",
              "    [theme=dark] .colab-df-convert:hover {\n",
              "      background-color: #434B5C;\n",
              "      box-shadow: 0px 1px 3px 1px rgba(0, 0, 0, 0.15);\n",
              "      filter: drop-shadow(0px 1px 2px rgba(0, 0, 0, 0.3));\n",
              "      fill: #FFFFFF;\n",
              "    }\n",
              "  </style>\n",
              "\n",
              "      <script>\n",
              "        const buttonEl =\n",
              "          document.querySelector('#df-657d8656-c064-483e-a3f0-753b2e013f99 button.colab-df-convert');\n",
              "        buttonEl.style.display =\n",
              "          google.colab.kernel.accessAllowed ? 'block' : 'none';\n",
              "\n",
              "        async function convertToInteractive(key) {\n",
              "          const element = document.querySelector('#df-657d8656-c064-483e-a3f0-753b2e013f99');\n",
              "          const dataTable =\n",
              "            await google.colab.kernel.invokeFunction('convertToInteractive',\n",
              "                                                     [key], {});\n",
              "          if (!dataTable) return;\n",
              "\n",
              "          const docLinkHtml = 'Like what you see? Visit the ' +\n",
              "            '<a target=\"_blank\" href=https://colab.research.google.com/notebooks/data_table.ipynb>data table notebook</a>'\n",
              "            + ' to learn more about interactive tables.';\n",
              "          element.innerHTML = '';\n",
              "          dataTable['output_type'] = 'display_data';\n",
              "          await google.colab.output.renderOutput(dataTable, element);\n",
              "          const docLink = document.createElement('div');\n",
              "          docLink.innerHTML = docLinkHtml;\n",
              "          element.appendChild(docLink);\n",
              "        }\n",
              "      </script>\n",
              "    </div>\n",
              "  </div>\n",
              "  "
            ]
          },
          "metadata": {},
          "execution_count": 289
        }
      ]
    },
    {
      "cell_type": "code",
      "execution_count": 290,
      "metadata": {
        "colab": {
          "base_uri": "https://localhost:8080/",
          "height": 424
        },
        "id": "LjhjfjVcXB2R",
        "outputId": "746b356d-96ad-481a-f1ab-86734e1050b2"
      },
      "outputs": [
        {
          "output_type": "execute_result",
          "data": {
            "text/plain": [
              "      평균매매가격     코스피지수     코스닥지수     나스닥종가      기준금리\n",
              "0    3.65249 -0.717051 -1.153907 -1.166944  2.096042\n",
              "1    3.64275 -0.506472 -0.966683 -1.123362  2.096042\n",
              "2    3.62790 -0.552315 -1.117070 -1.087859  2.096042\n",
              "3    3.60918 -0.642955 -1.386036 -1.100733  2.096042\n",
              "4    3.59253 -1.034702 -1.431999 -1.163100  2.096042\n",
              "..       ...       ...       ...       ...       ...\n",
              "118  7.56331  1.780773  1.832952  2.456226 -0.867328\n",
              "119  7.58448  2.172859  2.284975  2.486775 -0.867328\n",
              "120  7.58407  1.283963  1.219496  2.086670 -0.538064\n",
              "121  7.57620  1.385322  1.273726  1.947573 -0.538064\n",
              "122  7.56560  1.550680  1.693410  2.081157 -0.538064\n",
              "\n",
              "[123 rows x 5 columns]"
            ],
            "text/html": [
              "\n",
              "  <div id=\"df-405b34d6-7a72-48db-9938-17e257294f23\">\n",
              "    <div class=\"colab-df-container\">\n",
              "      <div>\n",
              "<style scoped>\n",
              "    .dataframe tbody tr th:only-of-type {\n",
              "        vertical-align: middle;\n",
              "    }\n",
              "\n",
              "    .dataframe tbody tr th {\n",
              "        vertical-align: top;\n",
              "    }\n",
              "\n",
              "    .dataframe thead th {\n",
              "        text-align: right;\n",
              "    }\n",
              "</style>\n",
              "<table border=\"1\" class=\"dataframe\">\n",
              "  <thead>\n",
              "    <tr style=\"text-align: right;\">\n",
              "      <th></th>\n",
              "      <th>평균매매가격</th>\n",
              "      <th>코스피지수</th>\n",
              "      <th>코스닥지수</th>\n",
              "      <th>나스닥종가</th>\n",
              "      <th>기준금리</th>\n",
              "    </tr>\n",
              "  </thead>\n",
              "  <tbody>\n",
              "    <tr>\n",
              "      <th>0</th>\n",
              "      <td>3.65249</td>\n",
              "      <td>-0.717051</td>\n",
              "      <td>-1.153907</td>\n",
              "      <td>-1.166944</td>\n",
              "      <td>2.096042</td>\n",
              "    </tr>\n",
              "    <tr>\n",
              "      <th>1</th>\n",
              "      <td>3.64275</td>\n",
              "      <td>-0.506472</td>\n",
              "      <td>-0.966683</td>\n",
              "      <td>-1.123362</td>\n",
              "      <td>2.096042</td>\n",
              "    </tr>\n",
              "    <tr>\n",
              "      <th>2</th>\n",
              "      <td>3.62790</td>\n",
              "      <td>-0.552315</td>\n",
              "      <td>-1.117070</td>\n",
              "      <td>-1.087859</td>\n",
              "      <td>2.096042</td>\n",
              "    </tr>\n",
              "    <tr>\n",
              "      <th>3</th>\n",
              "      <td>3.60918</td>\n",
              "      <td>-0.642955</td>\n",
              "      <td>-1.386036</td>\n",
              "      <td>-1.100733</td>\n",
              "      <td>2.096042</td>\n",
              "    </tr>\n",
              "    <tr>\n",
              "      <th>4</th>\n",
              "      <td>3.59253</td>\n",
              "      <td>-1.034702</td>\n",
              "      <td>-1.431999</td>\n",
              "      <td>-1.163100</td>\n",
              "      <td>2.096042</td>\n",
              "    </tr>\n",
              "    <tr>\n",
              "      <th>...</th>\n",
              "      <td>...</td>\n",
              "      <td>...</td>\n",
              "      <td>...</td>\n",
              "      <td>...</td>\n",
              "      <td>...</td>\n",
              "    </tr>\n",
              "    <tr>\n",
              "      <th>118</th>\n",
              "      <td>7.56331</td>\n",
              "      <td>1.780773</td>\n",
              "      <td>1.832952</td>\n",
              "      <td>2.456226</td>\n",
              "      <td>-0.867328</td>\n",
              "    </tr>\n",
              "    <tr>\n",
              "      <th>119</th>\n",
              "      <td>7.58448</td>\n",
              "      <td>2.172859</td>\n",
              "      <td>2.284975</td>\n",
              "      <td>2.486775</td>\n",
              "      <td>-0.867328</td>\n",
              "    </tr>\n",
              "    <tr>\n",
              "      <th>120</th>\n",
              "      <td>7.58407</td>\n",
              "      <td>1.283963</td>\n",
              "      <td>1.219496</td>\n",
              "      <td>2.086670</td>\n",
              "      <td>-0.538064</td>\n",
              "    </tr>\n",
              "    <tr>\n",
              "      <th>121</th>\n",
              "      <td>7.57620</td>\n",
              "      <td>1.385322</td>\n",
              "      <td>1.273726</td>\n",
              "      <td>1.947573</td>\n",
              "      <td>-0.538064</td>\n",
              "    </tr>\n",
              "    <tr>\n",
              "      <th>122</th>\n",
              "      <td>7.56560</td>\n",
              "      <td>1.550680</td>\n",
              "      <td>1.693410</td>\n",
              "      <td>2.081157</td>\n",
              "      <td>-0.538064</td>\n",
              "    </tr>\n",
              "  </tbody>\n",
              "</table>\n",
              "<p>123 rows × 5 columns</p>\n",
              "</div>\n",
              "      <button class=\"colab-df-convert\" onclick=\"convertToInteractive('df-405b34d6-7a72-48db-9938-17e257294f23')\"\n",
              "              title=\"Convert this dataframe to an interactive table.\"\n",
              "              style=\"display:none;\">\n",
              "        \n",
              "  <svg xmlns=\"http://www.w3.org/2000/svg\" height=\"24px\"viewBox=\"0 0 24 24\"\n",
              "       width=\"24px\">\n",
              "    <path d=\"M0 0h24v24H0V0z\" fill=\"none\"/>\n",
              "    <path d=\"M18.56 5.44l.94 2.06.94-2.06 2.06-.94-2.06-.94-.94-2.06-.94 2.06-2.06.94zm-11 1L8.5 8.5l.94-2.06 2.06-.94-2.06-.94L8.5 2.5l-.94 2.06-2.06.94zm10 10l.94 2.06.94-2.06 2.06-.94-2.06-.94-.94-2.06-.94 2.06-2.06.94z\"/><path d=\"M17.41 7.96l-1.37-1.37c-.4-.4-.92-.59-1.43-.59-.52 0-1.04.2-1.43.59L10.3 9.45l-7.72 7.72c-.78.78-.78 2.05 0 2.83L4 21.41c.39.39.9.59 1.41.59.51 0 1.02-.2 1.41-.59l7.78-7.78 2.81-2.81c.8-.78.8-2.07 0-2.86zM5.41 20L4 18.59l7.72-7.72 1.47 1.35L5.41 20z\"/>\n",
              "  </svg>\n",
              "      </button>\n",
              "      \n",
              "  <style>\n",
              "    .colab-df-container {\n",
              "      display:flex;\n",
              "      flex-wrap:wrap;\n",
              "      gap: 12px;\n",
              "    }\n",
              "\n",
              "    .colab-df-convert {\n",
              "      background-color: #E8F0FE;\n",
              "      border: none;\n",
              "      border-radius: 50%;\n",
              "      cursor: pointer;\n",
              "      display: none;\n",
              "      fill: #1967D2;\n",
              "      height: 32px;\n",
              "      padding: 0 0 0 0;\n",
              "      width: 32px;\n",
              "    }\n",
              "\n",
              "    .colab-df-convert:hover {\n",
              "      background-color: #E2EBFA;\n",
              "      box-shadow: 0px 1px 2px rgba(60, 64, 67, 0.3), 0px 1px 3px 1px rgba(60, 64, 67, 0.15);\n",
              "      fill: #174EA6;\n",
              "    }\n",
              "\n",
              "    [theme=dark] .colab-df-convert {\n",
              "      background-color: #3B4455;\n",
              "      fill: #D2E3FC;\n",
              "    }\n",
              "\n",
              "    [theme=dark] .colab-df-convert:hover {\n",
              "      background-color: #434B5C;\n",
              "      box-shadow: 0px 1px 3px 1px rgba(0, 0, 0, 0.15);\n",
              "      filter: drop-shadow(0px 1px 2px rgba(0, 0, 0, 0.3));\n",
              "      fill: #FFFFFF;\n",
              "    }\n",
              "  </style>\n",
              "\n",
              "      <script>\n",
              "        const buttonEl =\n",
              "          document.querySelector('#df-405b34d6-7a72-48db-9938-17e257294f23 button.colab-df-convert');\n",
              "        buttonEl.style.display =\n",
              "          google.colab.kernel.accessAllowed ? 'block' : 'none';\n",
              "\n",
              "        async function convertToInteractive(key) {\n",
              "          const element = document.querySelector('#df-405b34d6-7a72-48db-9938-17e257294f23');\n",
              "          const dataTable =\n",
              "            await google.colab.kernel.invokeFunction('convertToInteractive',\n",
              "                                                     [key], {});\n",
              "          if (!dataTable) return;\n",
              "\n",
              "          const docLinkHtml = 'Like what you see? Visit the ' +\n",
              "            '<a target=\"_blank\" href=https://colab.research.google.com/notebooks/data_table.ipynb>data table notebook</a>'\n",
              "            + ' to learn more about interactive tables.';\n",
              "          element.innerHTML = '';\n",
              "          dataTable['output_type'] = 'display_data';\n",
              "          await google.colab.output.renderOutput(dataTable, element);\n",
              "          const docLink = document.createElement('div');\n",
              "          docLink.innerHTML = docLinkHtml;\n",
              "          element.appendChild(docLink);\n",
              "        }\n",
              "      </script>\n",
              "    </div>\n",
              "  </div>\n",
              "  "
            ]
          },
          "metadata": {},
          "execution_count": 290
        }
      ],
      "source": [
        "# 그런데, 평균매매가격은 표준화할 필요가 없기 때문에, 기존 데이터로 바꿔주도록 한다. \n",
        "# 단, 금액이 크기 때문에, 100000000을 나눠주어, 단위를 원단위에서 1억으로 변경시킨다.\n",
        "\n",
        "df['평균매매가격']=dataset['평균매매가격']/100000000\n",
        "df"
      ]
    },
    {
      "cell_type": "code",
      "execution_count": 291,
      "metadata": {
        "colab": {
          "base_uri": "https://localhost:8080/",
          "height": 300
        },
        "id": "tHWC6MRmchGO",
        "outputId": "254b7090-1aa9-4c82-c6e8-024cd1cb9234"
      },
      "outputs": [
        {
          "output_type": "execute_result",
          "data": {
            "text/plain": [
              "       평균매매가격  코스피지수  코스닥지수  나스닥종가   기준금리\n",
              "count   123.0  123.0  123.0  123.0  123.0\n",
              "mean      4.0    0.0    0.0   -0.0   -0.0\n",
              "std       1.0    1.0    1.0    1.0    1.0\n",
              "min       3.0   -1.0   -1.0   -1.0   -2.0\n",
              "25%       3.0   -1.0   -1.0   -1.0   -1.0\n",
              "50%       4.0   -0.0   -0.0   -0.0   -0.0\n",
              "75%       5.0    0.0    1.0    0.0    1.0\n",
              "max       8.0    3.0    2.0    2.0    2.0"
            ],
            "text/html": [
              "\n",
              "  <div id=\"df-efccbd3f-984f-4692-99ca-c708617e0287\">\n",
              "    <div class=\"colab-df-container\">\n",
              "      <div>\n",
              "<style scoped>\n",
              "    .dataframe tbody tr th:only-of-type {\n",
              "        vertical-align: middle;\n",
              "    }\n",
              "\n",
              "    .dataframe tbody tr th {\n",
              "        vertical-align: top;\n",
              "    }\n",
              "\n",
              "    .dataframe thead th {\n",
              "        text-align: right;\n",
              "    }\n",
              "</style>\n",
              "<table border=\"1\" class=\"dataframe\">\n",
              "  <thead>\n",
              "    <tr style=\"text-align: right;\">\n",
              "      <th></th>\n",
              "      <th>평균매매가격</th>\n",
              "      <th>코스피지수</th>\n",
              "      <th>코스닥지수</th>\n",
              "      <th>나스닥종가</th>\n",
              "      <th>기준금리</th>\n",
              "    </tr>\n",
              "  </thead>\n",
              "  <tbody>\n",
              "    <tr>\n",
              "      <th>count</th>\n",
              "      <td>123.0</td>\n",
              "      <td>123.0</td>\n",
              "      <td>123.0</td>\n",
              "      <td>123.0</td>\n",
              "      <td>123.0</td>\n",
              "    </tr>\n",
              "    <tr>\n",
              "      <th>mean</th>\n",
              "      <td>4.0</td>\n",
              "      <td>0.0</td>\n",
              "      <td>0.0</td>\n",
              "      <td>-0.0</td>\n",
              "      <td>-0.0</td>\n",
              "    </tr>\n",
              "    <tr>\n",
              "      <th>std</th>\n",
              "      <td>1.0</td>\n",
              "      <td>1.0</td>\n",
              "      <td>1.0</td>\n",
              "      <td>1.0</td>\n",
              "      <td>1.0</td>\n",
              "    </tr>\n",
              "    <tr>\n",
              "      <th>min</th>\n",
              "      <td>3.0</td>\n",
              "      <td>-1.0</td>\n",
              "      <td>-1.0</td>\n",
              "      <td>-1.0</td>\n",
              "      <td>-2.0</td>\n",
              "    </tr>\n",
              "    <tr>\n",
              "      <th>25%</th>\n",
              "      <td>3.0</td>\n",
              "      <td>-1.0</td>\n",
              "      <td>-1.0</td>\n",
              "      <td>-1.0</td>\n",
              "      <td>-1.0</td>\n",
              "    </tr>\n",
              "    <tr>\n",
              "      <th>50%</th>\n",
              "      <td>4.0</td>\n",
              "      <td>-0.0</td>\n",
              "      <td>-0.0</td>\n",
              "      <td>-0.0</td>\n",
              "      <td>-0.0</td>\n",
              "    </tr>\n",
              "    <tr>\n",
              "      <th>75%</th>\n",
              "      <td>5.0</td>\n",
              "      <td>0.0</td>\n",
              "      <td>1.0</td>\n",
              "      <td>0.0</td>\n",
              "      <td>1.0</td>\n",
              "    </tr>\n",
              "    <tr>\n",
              "      <th>max</th>\n",
              "      <td>8.0</td>\n",
              "      <td>3.0</td>\n",
              "      <td>2.0</td>\n",
              "      <td>2.0</td>\n",
              "      <td>2.0</td>\n",
              "    </tr>\n",
              "  </tbody>\n",
              "</table>\n",
              "</div>\n",
              "      <button class=\"colab-df-convert\" onclick=\"convertToInteractive('df-efccbd3f-984f-4692-99ca-c708617e0287')\"\n",
              "              title=\"Convert this dataframe to an interactive table.\"\n",
              "              style=\"display:none;\">\n",
              "        \n",
              "  <svg xmlns=\"http://www.w3.org/2000/svg\" height=\"24px\"viewBox=\"0 0 24 24\"\n",
              "       width=\"24px\">\n",
              "    <path d=\"M0 0h24v24H0V0z\" fill=\"none\"/>\n",
              "    <path d=\"M18.56 5.44l.94 2.06.94-2.06 2.06-.94-2.06-.94-.94-2.06-.94 2.06-2.06.94zm-11 1L8.5 8.5l.94-2.06 2.06-.94-2.06-.94L8.5 2.5l-.94 2.06-2.06.94zm10 10l.94 2.06.94-2.06 2.06-.94-2.06-.94-.94-2.06-.94 2.06-2.06.94z\"/><path d=\"M17.41 7.96l-1.37-1.37c-.4-.4-.92-.59-1.43-.59-.52 0-1.04.2-1.43.59L10.3 9.45l-7.72 7.72c-.78.78-.78 2.05 0 2.83L4 21.41c.39.39.9.59 1.41.59.51 0 1.02-.2 1.41-.59l7.78-7.78 2.81-2.81c.8-.78.8-2.07 0-2.86zM5.41 20L4 18.59l7.72-7.72 1.47 1.35L5.41 20z\"/>\n",
              "  </svg>\n",
              "      </button>\n",
              "      \n",
              "  <style>\n",
              "    .colab-df-container {\n",
              "      display:flex;\n",
              "      flex-wrap:wrap;\n",
              "      gap: 12px;\n",
              "    }\n",
              "\n",
              "    .colab-df-convert {\n",
              "      background-color: #E8F0FE;\n",
              "      border: none;\n",
              "      border-radius: 50%;\n",
              "      cursor: pointer;\n",
              "      display: none;\n",
              "      fill: #1967D2;\n",
              "      height: 32px;\n",
              "      padding: 0 0 0 0;\n",
              "      width: 32px;\n",
              "    }\n",
              "\n",
              "    .colab-df-convert:hover {\n",
              "      background-color: #E2EBFA;\n",
              "      box-shadow: 0px 1px 2px rgba(60, 64, 67, 0.3), 0px 1px 3px 1px rgba(60, 64, 67, 0.15);\n",
              "      fill: #174EA6;\n",
              "    }\n",
              "\n",
              "    [theme=dark] .colab-df-convert {\n",
              "      background-color: #3B4455;\n",
              "      fill: #D2E3FC;\n",
              "    }\n",
              "\n",
              "    [theme=dark] .colab-df-convert:hover {\n",
              "      background-color: #434B5C;\n",
              "      box-shadow: 0px 1px 3px 1px rgba(0, 0, 0, 0.15);\n",
              "      filter: drop-shadow(0px 1px 2px rgba(0, 0, 0, 0.3));\n",
              "      fill: #FFFFFF;\n",
              "    }\n",
              "  </style>\n",
              "\n",
              "      <script>\n",
              "        const buttonEl =\n",
              "          document.querySelector('#df-efccbd3f-984f-4692-99ca-c708617e0287 button.colab-df-convert');\n",
              "        buttonEl.style.display =\n",
              "          google.colab.kernel.accessAllowed ? 'block' : 'none';\n",
              "\n",
              "        async function convertToInteractive(key) {\n",
              "          const element = document.querySelector('#df-efccbd3f-984f-4692-99ca-c708617e0287');\n",
              "          const dataTable =\n",
              "            await google.colab.kernel.invokeFunction('convertToInteractive',\n",
              "                                                     [key], {});\n",
              "          if (!dataTable) return;\n",
              "\n",
              "          const docLinkHtml = 'Like what you see? Visit the ' +\n",
              "            '<a target=\"_blank\" href=https://colab.research.google.com/notebooks/data_table.ipynb>data table notebook</a>'\n",
              "            + ' to learn more about interactive tables.';\n",
              "          element.innerHTML = '';\n",
              "          dataTable['output_type'] = 'display_data';\n",
              "          await google.colab.output.renderOutput(dataTable, element);\n",
              "          const docLink = document.createElement('div');\n",
              "          docLink.innerHTML = docLinkHtml;\n",
              "          element.appendChild(docLink);\n",
              "        }\n",
              "      </script>\n",
              "    </div>\n",
              "  </div>\n",
              "  "
            ]
          },
          "metadata": {},
          "execution_count": 291
        }
      ],
      "source": [
        "df.describe().round()"
      ]
    },
    {
      "cell_type": "code",
      "execution_count": 292,
      "metadata": {
        "colab": {
          "base_uri": "https://localhost:8080/"
        },
        "id": "aX_X0p2TgIgG",
        "outputId": "5f131423-e7d5-4873-ca1d-d3a2092484b3"
      },
      "outputs": [
        {
          "output_type": "execute_result",
          "data": {
            "text/plain": [
              "평균매매가격    float64\n",
              "코스피지수     float64\n",
              "코스닥지수     float64\n",
              "나스닥종가     float64\n",
              "기준금리      float64\n",
              "dtype: object"
            ]
          },
          "metadata": {},
          "execution_count": 292
        }
      ],
      "source": [
        "# 데이터의 타입이 모델에 사용가능한 실수형임을 확인하였다.  \n",
        "df.dtypes"
      ]
    },
    {
      "cell_type": "markdown",
      "source": [
        "## 1.4 데이터셋 분할\n",
        "\n",
        "데이터 전처리의 마지막 단계로 데이터셋을 두가지 데이터셋(훈련 데이터셋과 테스트 데이터셋)으로 나눈다.\n",
        "\n",
        "\n",
        "- 훈련 데이터셋(training set) : 모델을 학습시킬 때 사용되는 데이터셋\n",
        "\n",
        "- 테스트 데이터셋(testing set) : 학습된 모델을 평가하는 데 사용되는 데이터셋\n",
        "\n"
      ],
      "metadata": {
        "id": "ByJuZ5ViLfRK"
      }
    },
    {
      "cell_type": "code",
      "execution_count": 293,
      "metadata": {
        "id": "qP3Ywq7rpW3s"
      },
      "outputs": [],
      "source": [
        "from sklearn.model_selection import train_test_split"
      ]
    },
    {
      "cell_type": "code",
      "execution_count": 294,
      "metadata": {
        "id": "c8hFuUlk3t6x"
      },
      "outputs": [],
      "source": [
        "# 특징(독립)변수를 X에 대입\n",
        "# 목표(종속)변수를 Y에 대입\n",
        "\n",
        "X = df[['나스닥종가', '코스피지수', '코스닥지수', '기준금리']]\n",
        "Y = df[['평균매매가격']]"
      ]
    },
    {
      "cell_type": "code",
      "source": [
        "# 데이터셋 df를 훈련 데이터셋과 테스트 데이터셋으로 분할하기\n",
        "\n",
        "X_train, X_test, Y_train, Y_test = train_test_split(X, Y, train_size=0.8, test_size=0.2)"
      ],
      "metadata": {
        "id": "OxDYyj5LMVuD"
      },
      "execution_count": 295,
      "outputs": []
    },
    {
      "cell_type": "markdown",
      "source": [
        "# 2. 분석하기"
      ],
      "metadata": {
        "id": "Wh7baWg8MbwB"
      }
    },
    {
      "cell_type": "code",
      "execution_count": 296,
      "metadata": {
        "id": "nzxrg_KjJ2_H"
      },
      "outputs": [],
      "source": [
        "# 한글폰드 오류해결\n",
        "plt.rc('font', family='NanumBarunGothic')\n",
        "\n",
        "# x,y축에 -부호 오류 해결\n",
        "plt.rc('axes', unicode_minus=False)"
      ]
    },
    {
      "cell_type": "markdown",
      "metadata": {
        "id": "3ijvJx6cZFNd"
      },
      "source": [
        "## **2.1 머신러닝 - 신경망**"
      ]
    },
    {
      "cell_type": "markdown",
      "source": [
        "### 2.1.1 모델구조 만들기"
      ],
      "metadata": {
        "id": "cMDWa-i0MfY1"
      }
    },
    {
      "cell_type": "code",
      "execution_count": 297,
      "metadata": {
        "id": "7zJzRy0dZIFV"
      },
      "outputs": [],
      "source": [
        "# 필요한 라이브러리(모듈) 임포트\n",
        "\n",
        "from keras.models import Sequential\n",
        "from keras.layers import Dense"
      ]
    },
    {
      "cell_type": "code",
      "execution_count": 298,
      "metadata": {
        "id": "2E_M-T8aZX9O"
      },
      "outputs": [],
      "source": [
        "# 레이어를 나란이 연결하기 위해 케라스의 Sequential 모델을 만듦\n",
        "# model에 대입\n",
        "\n",
        "model = Sequential()"
      ]
    },
    {
      "cell_type": "code",
      "execution_count": 299,
      "metadata": {
        "id": "nWJvJ5ahaf9U"
      },
      "outputs": [],
      "source": [
        "# 특징(독립)변수가 4개, 노드가 60개, 활성화함수='relu'를 설정하여 하나의 Danse레이어를 만듦\n",
        "# 만든 레이어를 model에 추가함\n",
        "\n",
        "model.add(Dense(60,input_dim=4, activation='relu'))"
      ]
    },
    {
      "cell_type": "code",
      "execution_count": 300,
      "metadata": {
        "id": "6U1mKI_raumz"
      },
      "outputs": [],
      "source": [
        "# 노드가 60개, 활성화함수='relu'를 설정하여 하나의 Danse레이어를 만듦\n",
        "# 만든 레이어를 model에 추가함\n",
        "\n",
        "model.add(Dense(60, activation='relu'))"
      ]
    },
    {
      "cell_type": "code",
      "execution_count": 301,
      "metadata": {
        "id": "5r5TxrUMau36"
      },
      "outputs": [],
      "source": [
        "# 만든 레이어를 model에 추가함\n",
        "\n",
        "model.add(Dense(1))"
      ]
    },
    {
      "cell_type": "code",
      "execution_count": 302,
      "metadata": {
        "id": "I7E-Hfcba8t6"
      },
      "outputs": [],
      "source": [
        "# 모델 컴파일\n",
        "# 위에서 만든 모델이 효과적으로 구현될 수 있게 여러가지 옵션을 설정해서 컴파일함\n",
        "# 손실함수를 'mean_squared_error'로\n",
        "# 옵티마이저를 'rmsprop'으로 설정하여 모델을 컴파일 함\n",
        "\n",
        "model.compile(loss='mse', optimizer='rmsprop')"
      ]
    },
    {
      "cell_type": "code",
      "source": [
        "# 모델 컴파일\n",
        "# 위에서 만든 모델이 효과적으로 구현될 수 있게 여러가지 옵션을 설정해서 컴파일함\n",
        "# 손실함수를 'mean_squared_error'로\n",
        "# 옵티마이저를 'adam'으로 설정하여 모델을 컴파일 함\n",
        "\n",
        "model.compile(loss='mse', optimizer='adam')"
      ],
      "metadata": {
        "id": "eaYnLoDai7Hg"
      },
      "execution_count": 303,
      "outputs": []
    },
    {
      "cell_type": "markdown",
      "metadata": {
        "id": "9txK2p44biOo"
      },
      "source": [
        "### **2.1.2 모델 학습시키기**"
      ]
    },
    {
      "cell_type": "code",
      "execution_count": 321,
      "metadata": {
        "colab": {
          "base_uri": "https://localhost:8080/"
        },
        "id": "Hi1MwL2NJGSZ",
        "outputId": "2ea5d871-8e9e-4594-c172-71d8c208024e"
      },
      "outputs": [
        {
          "output_type": "execute_result",
          "data": {
            "text/plain": [
              "<keras.callbacks.History at 0x7f2de77afb50>"
            ]
          },
          "metadata": {},
          "execution_count": 321
        }
      ],
      "source": [
        "model.fit(X_train, Y_train, epochs=500, verbose=0)"
      ]
    },
    {
      "cell_type": "markdown",
      "metadata": {
        "id": "lCZmDDgSb2cD"
      },
      "source": [
        "### **2.1.3 모델 평가하기**"
      ]
    },
    {
      "cell_type": "code",
      "execution_count": 322,
      "metadata": {
        "colab": {
          "base_uri": "https://localhost:8080/"
        },
        "id": "vTf043NSdO4P",
        "outputId": "a1dbc5f8-3938-4341-a8da-ba8f70bb4438"
      },
      "outputs": [
        {
          "output_type": "stream",
          "name": "stdout",
          "text": [
            "4/4 [==============================] - 0s 4ms/step - loss: 0.0089\n"
          ]
        },
        {
          "output_type": "execute_result",
          "data": {
            "text/plain": [
              "0.0088622085750103"
            ]
          },
          "metadata": {},
          "execution_count": 322
        }
      ],
      "source": [
        "# 훈련 데이터셋을 이용해 model을 평가하기\n",
        "\n",
        "model.evaluate(X_train,Y_train)"
      ]
    },
    {
      "cell_type": "code",
      "execution_count": 323,
      "metadata": {
        "colab": {
          "base_uri": "https://localhost:8080/"
        },
        "id": "OhZlXatXbpmx",
        "outputId": "a1b7c1ed-0d20-4eab-aa22-613653558ad4"
      },
      "outputs": [
        {
          "output_type": "stream",
          "name": "stdout",
          "text": [
            "1/1 [==============================] - 0s 19ms/step - loss: 0.0289\n"
          ]
        },
        {
          "output_type": "execute_result",
          "data": {
            "text/plain": [
              "0.028940634801983833"
            ]
          },
          "metadata": {},
          "execution_count": 323
        }
      ],
      "source": [
        "# 테스트 데이터셋을 이용해 model을 평가하기\n",
        "\n",
        "model.evaluate(X_test,Y_test)"
      ]
    },
    {
      "cell_type": "code",
      "source": [
        "import matplotlib.pyplot as plt"
      ],
      "metadata": {
        "id": "eIAJI_hxkUDM"
      },
      "execution_count": 324,
      "outputs": []
    },
    {
      "cell_type": "code",
      "source": [
        "Y_predicted = model.predict(X_test)"
      ],
      "metadata": {
        "id": "td0giM_NkeO1"
      },
      "execution_count": 325,
      "outputs": []
    },
    {
      "cell_type": "code",
      "source": [
        "number_of_samples=20\n",
        "plt.plot(range(number_of_samples),Y_test[:number_of_samples], label='real price')\n",
        "plt.plot(range(number_of_samples),Y_predicted[:number_of_samples], label='pridicted price')\n",
        "plt.legend()\n",
        "plt.show()"
      ],
      "metadata": {
        "colab": {
          "base_uri": "https://localhost:8080/",
          "height": 265
        },
        "id": "GqklnwJFkY8k",
        "outputId": "45505140-bb12-4b6f-e42c-eb82eedd3cd5"
      },
      "execution_count": 326,
      "outputs": [
        {
          "output_type": "display_data",
          "data": {
            "text/plain": [
              "<Figure size 432x288 with 1 Axes>"
            ],
            "image/png": "[encoded data removed]"
          },
          "metadata": {
            "needs_background": "light"
          }
        }
      ]
    },
    {
      "cell_type": "markdown",
      "source": [
        "## 2.2  회귀모델 (LinearRegression)"
      ],
      "metadata": {
        "id": "PGtOu_zMdSYy"
      }
    },
    {
      "cell_type": "code",
      "execution_count": 310,
      "metadata": {
        "id": "DO5z91jTHcmh"
      },
      "outputs": [],
      "source": [
        "from sklearn.linear_model  import LinearRegression\n",
        "from sklearn.metrics import mean_squared_error, r2_score\n",
        "from sklearn.model_selection import cross_val_score, train_test_split"
      ]
    },
    {
      "cell_type": "code",
      "execution_count": 311,
      "metadata": {
        "id": "PWAystmKN-a_"
      },
      "outputs": [],
      "source": [
        "model_L=LinearRegression()"
      ]
    },
    {
      "cell_type": "markdown",
      "source": [
        "### 2.2.1 모델 구조만들기 & 학습시키기"
      ],
      "metadata": {
        "id": "_1-OaHNidWAR"
      }
    },
    {
      "cell_type": "code",
      "execution_count": 312,
      "metadata": {
        "colab": {
          "base_uri": "https://localhost:8080/"
        },
        "id": "Yf0_mHdnOIlp",
        "outputId": "13f39b42-7f11-435f-d005-3213f2f630a2"
      },
      "outputs": [
        {
          "output_type": "execute_result",
          "data": {
            "text/plain": [
              "LinearRegression()"
            ]
          },
          "metadata": {},
          "execution_count": 312
        }
      ],
      "source": [
        "model_L.fit(X_train, Y_train)"
      ]
    },
    {
      "cell_type": "markdown",
      "source": [
        "### 2.2.2 모델 평가하기"
      ],
      "metadata": {
        "id": "n3yfzbzTUjYP"
      }
    },
    {
      "cell_type": "code",
      "execution_count": 313,
      "metadata": {
        "id": "qXlw7SgsOswn"
      },
      "outputs": [],
      "source": [
        "train_price=model_L.score(X_train,Y_train)\n",
        "test_price=model_L.score(X_test,Y_test)"
      ]
    },
    {
      "cell_type": "code",
      "execution_count": 314,
      "metadata": {
        "id": "ed9VxGx_Phv5"
      },
      "outputs": [],
      "source": [
        "Y_predicted_L = model_L.predict(X_test)"
      ]
    },
    {
      "cell_type": "code",
      "source": [
        "print(model_L.coef_,model_L.intercept_)"
      ],
      "metadata": {
        "colab": {
          "base_uri": "https://localhost:8080/"
        },
        "id": "ucWB7i_EnG3t",
        "outputId": "2c45aebf-68dc-4820-e753-24e49b8b1329"
      },
      "execution_count": 315,
      "outputs": [
        {
          "output_type": "stream",
          "name": "stdout",
          "text": [
            "[[ 1.63761648 -0.37646329  0.08125925  0.35557098]] [4.3846921]\n"
          ]
        }
      ]
    },
    {
      "cell_type": "code",
      "source": [
        "mse = mean_squared_error(Y_test, Y_predicted_L)\n",
        "rmse = np.sqrt(mse)\n",
        "print('\\nMSE : {0:.3f}, RMSE : {1:.3F}\\n'.format(mse, rmse))\n",
        "print('\\nr2 Variance score  {0:.3F}\\n'.format(r2_score(Y_test, Y_predicted_L)))\n",
        "\n",
        "#r2_score 설명력"
      ],
      "metadata": {
        "colab": {
          "base_uri": "https://localhost:8080/"
        },
        "id": "yV7W-yHJoCoc",
        "outputId": "c699d2dd-388b-445d-8680-19df87fc4e82"
      },
      "execution_count": 316,
      "outputs": [
        {
          "output_type": "stream",
          "name": "stdout",
          "text": [
            "\n",
            "MSE : 0.061, RMSE : 0.247\n",
            "\n",
            "\n",
            "r2 Variance score  0.958\n",
            "\n"
          ]
        }
      ]
    },
    {
      "cell_type": "code",
      "execution_count": 317,
      "metadata": {
        "id": "ujbLNNI9RWfF"
      },
      "outputs": [],
      "source": [
        "import matplotlib.pyplot as plt"
      ]
    },
    {
      "cell_type": "code",
      "execution_count": 318,
      "metadata": {
        "colab": {
          "base_uri": "https://localhost:8080/",
          "height": 265
        },
        "id": "E7pZt64kO1xG",
        "outputId": "8f976c63-d5b2-44d5-fddd-7f3c58028156"
      },
      "outputs": [
        {
          "output_type": "display_data",
          "data": {
            "text/plain": [
              "<Figure size 432x288 with 1 Axes>"
            ],
            "image/png": "[encoded data removed]"
          },
          "metadata": {
            "needs_background": "light"
          }
        }
      ],
      "source": [
        "number_of_samples=20\n",
        "plt.plot(range(number_of_samples),Y_test[:number_of_samples], label='real price')\n",
        "plt.plot(range(number_of_samples),Y_predicted_L[:number_of_samples], label='pridicted price')\n",
        "plt.legend()\n",
        "plt.show()"
      ]
    }
  ],
  "metadata": {
    "colab": {
      "collapsed_sections": [],
      "name": "Final_project.ipynb",
      "provenance": [],
      "toc_visible": true
    },
    "kernelspec": {
      "display_name": "Python 3",
      "name": "python3"
    },
    "language_info": {
      "name": "python"
    }
  },
  "nbformat": 4,
  "nbformat_minor": 0
}